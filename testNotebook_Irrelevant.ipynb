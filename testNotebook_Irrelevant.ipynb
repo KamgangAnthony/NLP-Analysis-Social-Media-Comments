{
 "cells": [
  {
   "cell_type": "code",
   "execution_count": 5,
   "outputs": [],
   "source": [
    "import facebook_scraper"
   ],
   "metadata": {
    "collapsed": false,
    "pycharm": {
     "name": "#%%\n"
    }
   }
  },
  {
   "cell_type": "code",
   "execution_count": 6,
   "outputs": [],
   "source": [
    "from facebook_scraper import get_posts_by_search"
   ],
   "metadata": {
    "collapsed": false,
    "pycharm": {
     "name": "#%%\n"
    }
   }
  },
  {
   "cell_type": "markdown",
   "source": [
    "yourpassword"
   ],
   "metadata": {
    "collapsed": false,
    "pycharm": {
     "name": "#%% md\n"
    }
   }
  },
  {
   "cell_type": "code",
   "execution_count": 44,
   "outputs": [],
   "source": [
    "from facebook_scraper import get_posts"
   ],
   "metadata": {
    "collapsed": false,
    "pycharm": {
     "name": "#%%\n"
    }
   }
  },
  {
   "cell_type": "code",
   "execution_count": 13,
   "outputs": [],
   "source": [
    "import pandas as pd"
   ],
   "metadata": {
    "collapsed": false,
    "pycharm": {
     "name": "#%%\n"
    }
   }
  },
  {
   "cell_type": "code",
   "execution_count": 15,
   "outputs": [],
   "source": [
    "data = pd.read_excel('dataset_facebook-latest-comments-scraper.xlsx')"
   ],
   "metadata": {
    "collapsed": false,
    "pycharm": {
     "name": "#%%\n"
    }
   }
  },
  {
   "cell_type": "code",
   "execution_count": 17,
   "outputs": [],
   "source": [
    "data1 = data['postUrl']"
   ],
   "metadata": {
    "collapsed": false,
    "pycharm": {
     "name": "#%%\n"
    }
   }
  },
  {
   "cell_type": "code",
   "execution_count": 20,
   "outputs": [
    {
     "data": {
      "text/plain": "21"
     },
     "execution_count": 20,
     "metadata": {},
     "output_type": "execute_result"
    }
   ],
   "source": [
    "len(data1)"
   ],
   "metadata": {
    "collapsed": false,
    "pycharm": {
     "name": "#%%\n"
    }
   }
  },
  {
   "cell_type": "code",
   "execution_count": 22,
   "outputs": [],
   "source": [
    "urllist = data1.tolist()"
   ],
   "metadata": {
    "collapsed": false,
    "pycharm": {
     "name": "#%%\n"
    }
   }
  },
  {
   "cell_type": "code",
   "execution_count": 23,
   "outputs": [
    {
     "data": {
      "text/plain": "['https://www.facebook.com/taphisonline/posts/pfbid038Ec6YPXfkuAmM95QFCUkWBKAZvsfanJLDtTpornCaGCN6UCwVczNxyZNuVKYbDiAl',\n 'https://www.facebook.com/emilie.fotsa/posts/pfbid065taKPRNRTe6qJwp8Uv77jqfxMeABH6aa5Cpqvc39eKNZRJuPR9LFyS2GxxZQn4hl',\n 'https://www.facebook.com/artiste.kamga/posts/pfbid033Vivb3DqDHo9Qot82EQUECfhHeBPD3zpBuxzT3tdhJvRcHs3JjrZghHDDXVkBE4ql',\n 'https://www.facebook.com/MunaCreativ/posts/pfbid0bkYUdeD3icDwuroVTSiWixbTna6n6JjQrT3Y9MeHnDe8MxvyEMksDcQaEXyfzQ3l',\n 'https://www.facebook.com/SOSDONDESANG/posts/pfbid02PL2zaCPF15LEJW1rkGa3sqxxGkvLuW3uUnmvEzXfUR6gpckTEJ54if5Z6QidXg9nl',\n 'https://www.facebook.com/Malamivana/posts/pfbid0xMgzPBT38Ee7SETo5AgVQPT9G79UEjR2KpfoVrnwGF2FdHB7DmZZJ1iRr9v3pp86l',\n 'https://www.facebook.com/SOSDONDESANG/posts/pfbid02WB851rxgiMqxZr8j9ZfCvVHg2bt1jsxnuCox39qUnD77MDxrRH6RvE1WhrxX6x5dl',\n 'https://www.facebook.com/SOSDONDESANG/posts/pfbid02aFTGqfr5YYsHmSgtKbz9asBQn1rSZU4kiQknKudknsrvbZJhV317mb31Qf1pZonZl',\n 'https://www.facebook.com/thequeen.cyndyelle/posts/pfbid02rLsZfsZpKWhNtSgMEtDnHSigrXTm3qzbZw6pPRxQw7Fbe51Ux8tHRELRHVENQWgel',\n 'https://www.facebook.com/SOSDONDESANG/posts/pfbid02dgsVqjzYkLL13LMhHZrG9d4vN7wY3cx2PpnKYpV56uytcyxhtzBDL2PWoNcAxT1Tl',\n 'https://www.facebook.com/SOSDONDESANG/posts/pfbid02rJoBxnazqoViJNr7uG7dLigk8yKZzLV99NVrB65oSnHwb7u9TYbM71eLDnfpRw79l',\n 'https://www.facebook.com/SOSDONDESANG/posts/pfbid021Xi7qupPGQcwbo7QMJcVGKmtzj9NxtPs4N7VyhGgMxvkXfVQzn4fWrgKV9ykizkrl',\n 'https://web.facebook.com/SOSDONDESANG/posts/pfbid02sUQ5MUQbLmY9sAwXEp7vhrPr6jaSLSYkQs2JD4ndGHGTMjwGG1gBxH2HZB1fYkR3l',\n 'https://www.facebook.com/SOSDONDESANG/posts/pfbid02LyXEddKrhbtgGQcmm6HGais2NHVjKuRfHCdCx6wLBgJ47jYmPvXa8suzi8Ttsk8Ul',\n 'https://www.facebook.com/chatana.doul/posts/pfbid0Z8hAJiBtT9VAsJ4pNUkxAPPRonLN8NWDrwEmPVNUgCVsJZtm2ib4SMMW6RL2czECl',\n 'https://www.facebook.com/canalpluscmr/posts/pfbid023wwDN8u1Hytc8taiPCbCojUak9GAmtQo5NvAC8NpiozKtVaXaVXxGoSYRQ8CKxMvl',\n 'https://www.facebook.com/MINSANTE.PageOfficielle/posts/pfbid02g9wHKEhJujzx7GyS43jsNfQifvwGJ8F3GXetqUFb4uJPN1EswSj6rnozRWmA39dKl',\n 'https://www.facebook.com/sergescecilejoyce/posts/pfbid02F9JHXCYwNrSHY76xkimTVEzsAHy3bqLM77WQpWksLzq7WAukBJZsLWT1s82pDPAsl',\n 'https://www.facebook.com/SOSDONDESANG/posts/pfbid02Ddbw8TVuu61i3x6maykjpfCXkbc4YwZRTsxcBYQgs7BF6tQiXvWaDMSmRxTC8Np2l',\n 'https://www.facebook.com/SOSDONDESANG/posts/2317457248524874',\n 'https://www.facebook.com/SOSDONDESANG/posts/pfbid02sUQ5MUQbLmY9sAwXEp7vhrPr6jaSLSYkQs2JD4ndGHGTMjwGG1gBxH2HZB1fYkR3l']"
     },
     "execution_count": 23,
     "metadata": {},
     "output_type": "execute_result"
    }
   ],
   "source": [
    "urllist"
   ],
   "metadata": {
    "collapsed": false,
    "pycharm": {
     "name": "#%%\n"
    }
   }
  },
  {
   "cell_type": "markdown",
   "source": [
    "yourpassword"
   ],
   "metadata": {
    "collapsed": false,
    "pycharm": {
     "name": "#%% md\n"
    }
   }
  },
  {
   "cell_type": "code",
   "execution_count": 25,
   "outputs": [
    {
     "name": "stderr",
     "output_type": "stream",
     "text": [
      "C:\\Users\\kamga\\PycharmProjects\\scientificProject\\venv\\lib\\site-packages\\dateparser\\freshness_date_parser.py:76: PytzUsageWarning: The localize method is no longer necessary, as this time zone supports the fold attribute (PEP 495). For more details on migrating to a PEP 495-compliant implementation, see https://pytz-deprecation-shim.readthedocs.io/en/latest/migration.html\n",
      "  now = self.get_local_tz().localize(now)\n",
      "C:\\Users\\kamga\\PycharmProjects\\scientificProject\\venv\\lib\\site-packages\\dateparser\\date_parser.py:35: PytzUsageWarning: The localize method is no longer necessary, as this time zone supports the fold attribute (PEP 495). For more details on migrating to a PEP 495-compliant implementation, see https://pytz-deprecation-shim.readthedocs.io/en/latest/migration.html\n",
      "  date_obj = stz.localize(date_obj)\n"
     ]
    },
    {
     "name": "stdout",
     "output_type": "stream",
     "text": [
      "Une situation WIN-WIN pour tout le monde\n",
      "😂 😂 Toi et tes idées je suis au sole\n",
      "Net j’ai déjà pensé à ça plusieurs fois 😂😂😂😂😂😌\n",
      "Cela ne change rien au fait qu'il y'ait 48 millions de kangourous en Australie et 3.457.380 habitants en Uruguay, et si les kangourous décident d'envahir l'Uruguay, chaque uruguayen doit combattre 14 kangourous. 🚶🚶\n",
      "je te dis 🤣🤣🤣🤣🙌🏾🙌🏾🙌🏾\n",
      "Aie fini moi je suis au sol🤣🤣🤣🤣🤣\n",
      "N’est ce pas...\n",
      "Le but de LA SORCELLERIE est justement de nuire pas D'AIDER 🤧🤧\n",
      "Le. Sorcier n'aime pas ce qui est bien🤣🤣🤣🤣🤣. Même entre eux il y'aura de gros matas\n",
      "Sorcellerie # Magie\n",
      "Isidore Tameu pardon ne me tue pas de lapp😄😄😄😄😄😄😄😄\n",
      "Vrai vrai\n",
      "😂😂😂😂😂\n",
      "😁😁😁😁😁😁\n",
      "😹😹😹😹😹😹😹😹😹👐👐👐👐👐👐🙌🙇🙏🙏🙏\n",
      "Tu vois qu'ils commencent à réagir nor 😂\n",
      "😒 Vous riez alors que c'est vrai hein\n",
      "Tu es inspiré 😂😂😂 mince\n",
      "Mohamadou Houmfa viens apprécier\n",
      "Eeeehhh Dieu...jai envie de pleurer qd je te lis Emilie Fotsa.\n",
      "Myyyyyyyy 😭😭😭😭😭😭\n",
      "Omg Emi 🙈🙈🙈 j'ai du mal à croire à mon propre achievement, et pourtant la réalité est là !! Merci infiniment, sans toi et tous les autres qui n'hésitent jamais à m'encourager, je n'en serais pas là. ❤️❤️❤️\n",
      "Je suis donc obligé de pleurer finalement. 😭\n",
      "Toutes mes félicitations chouchou de moi et continue dans cette voie car pour moi si papa GOD ne t avait créé hummmm .... En tout cas il t a fait venir parmi nous pour un but OK? Ans u have to achieve it my princess : kissssss\n",
      "Snif snif snif\n",
      "Massa Émilie comme d'habitude tu as dérangé avec tes inspirations!!!\n",
      "!!😍😍😍beau texte plein de vérité ! 😉😉😉\n",
      "TU ES LA MEILLEURE\n",
      "2 personnes que j'adore 😊\n",
      "Mimi je suis très fière de toi t'es ma meilleure kan je me rapel de tous les moments ke j'ai passé avc toi je suis heureuse de voir ke tu as si bien évoluer ça me fait plaisir de voir une de mes amies être une bonne personne engagée et gentille auprès de tous.bcou de courage va de l'avant. Je serai toujours là pour t'encourager et jsp ke tu ne changera jamais de caractère reste la même .kiss\n",
      "Melissa Abah\n",
      "Melissa Abah\n",
      "Melissa Abah\n",
      "Brillant parcours\n",
      "Jojo Art\n",
      "Myriam Kamako : VRAIE TIPE!!!\n",
      "Princess Ruth\n",
      "Oh la la. So true Emi. Myriam bravo pour tous ces accomplissement\n",
      "s! Reste la fille dynamique que tu es!! 👌👌👌\n",
      "Vraiment.courag\n",
      "e\n",
      "L'Afrique qui gagne!!!!\n",
      "Bravo!\n",
      "Ah ça chapeaux !!\n",
      "Trop bien. Courage\n",
      "Tres boe initiative!!!! God bless\n",
      "Marie Louise Bitomo Biloa\n",
      "Parabens\n",
      "Bravo à vous tous qui y avez contribué,\n",
      "Bon rapport, attestation de votre transparence.\n",
      "N'attendez pas de ''merci'' ou de récompense des Hommes car vous l'aurez directement de Dieu notre père.\n",
      "Bravo ,vous êtes des exemples à suivre . Pendant ce temps ces voleurs pilleurs la République sont au bureau\n",
      "rien a redire si non merci pour les victimes !\n",
      "bonne initiative HENRI\n",
      "felicitation mon frere mes respect\n",
      "Et quid de la prise en charge gratuite?\n",
      "Vibrant Hommage à Vous Frères et Soeurs !\n",
      "YOU ARE BLESSED\n",
      "Hum\n",
      "Tous mes encouragements henri et ton equipe\n",
      "Félicitations pour cette engagement\n",
      "Big up\n",
      "Vous etes fantastiques\n",
      "Bravo mes amis !\n",
      "Bravo\n",
      "Big up!\n",
      "Good job!\n",
      "Félicitations et merci quel bravoure!!\n",
      "Je salut l'action des vrais\n",
      "Ke le Dieu vous benisse mes freres.\n",
      "Action salutaire\n",
      "Excellente initiative 👍\n",
      "super\n",
      "Samba Mia\n",
      "Bravo les gars!\n",
      "J'y ss aller seule mais c'est toujours mieux d'y être en groupe. Merci gros pour eux\n",
      "Ke Dieu vous le rende o centuple\n",
      "Bravo\n",
      "Weee mon pote tu déposes ta candidature quand? prochain mandat je te vote\n",
      "Excellent! Felicitations!\n",
      "Il y a un temps pour la critique et un autre pour l action. Bravo\n",
      "I so much appreciate this initiative, may The Lord bless you. Also don't forget to put me in this same frame next time. Courage courage my brothers and sisters!!!!\n",
      "BRAVO ! BELLE INITIATIVE !!!\n",
      "La force de l'union envers et contre tous. Mes respects. Plus que des dons, vous avez donné votre temps, votre amour sincère et votre attention. C'est puissant. Merci beaucoup.\n",
      "Courage !!!\n",
      "Que le Seigneur vous rende au centuple ce que vous avez fait vraiment soyez béni\n",
      "waou !!!! bravo !\n",
      "Carole Leuwé Esther Ngom Patoue Bakalack Maa Sessanna.\n",
      "Vous etes dignes des plus grands Lumumba,Sekou Touré,kadhafi,s\n",
      "ankara vous nous montrer l'exemple en tout cas je me sens tout petit a côté de vous respect\n",
      "Bravooo\n",
      "vraiment la j'en ai des larme aux yeux\n",
      "Bravo et chapeau à vous pour cette belle initiative 🙏🙏🙏🙏\n",
      "Wheah ! c bon pr le moral.\n",
      "En fait depuis le cyclone qui a encore une fois ravagé Haïti puis la catastrophe au Cameroun je vois comment les noirs veulent et réussissent à s'organiser par nous même sans passer par les ONG bidon je me dis que le monde noir se relève et ça me motive à apporter ma contribution merci pour ça\n",
      "Ô Cameroun, Berceau des nos Ancêtres....\n",
      "Va debout et jaloux de ta liberté.\n",
      "Sire Petraeus\n",
      "Mille Mercis Héru Kamga\n",
      "Goog\n",
      "Good\n",
      "Magnifique\n",
      "Soxna Kâ si tu donnes même maintenant, ca va toujours aider\n",
      "Fière de toi Ngnie.... bravo bravo\n",
      "Merci beaucoup pour votre geste. Et nous ici à Paris pour l'appel aux dons pour bâtir la stèle à la gare d'Éséka j'ai 6 euros pour l'instant. Seul le bla bla bla par millier. Mais je ne désespère pas. D'ici le 21 0ctobre 2017 même une croix en bois y trônera.\n",
      "Merci frère force à toi et à la team autour.\n",
      "L'afrique qui bouge.\n",
      "Bravo !\n",
      "ESEKA....\n",
      "\n",
      "L'ARMÉE ENTERRE DES CADAVRES À ESEKA DANS LE PLUS GRAND SECRET. Certaines familles ne retrouveront jamais les corps des leurs. Vraisemblableme\n",
      "nt ce gouvernement a tout fait pour cacher la réalité de la tragédie de ESEKA au détriment des familles. MEMES LES INDEMNISATIONS CERTAINES FAMILLES N'EN BENEFICIERONT PAS. C'EST UN TRIPLE MEURTRE..... Ce n'est pas sérieux.\n",
      "J’aime\n",
      "Belle initiave, Courage a toute l'équipe.... Que Dieu vous accorde toujours ses bénédictions.\n",
      "Que le Dieu de nos ancêtres vous remplisse de bénédictions...\n",
      "Que le bon Dieu vous benisent\n",
      "Bravo. c'est vraiment le reveil de la conscience citoyenne au Cameroun!\n",
      "Un grand MERCI pour ton/votre implication. Quant à ton explication sur le don du sang, elle est vraiment utile, car pas plus tard que il y a 4 jours, j'en parlais avec une amie qui me donnait la même explication, et à la télé, j'ai vu une dame médecin qui a donné la liste des 6 ou 7 examens de sang à faire avec le sang d'un donateur. Il serait utile de donner cette liste en entier, comme ça les gens comprendraient mieux.\n",
      "à COUP SÜR TOUT CECI N'aRRIVERA PAS AUX DESTINATAIRES . ON CONNAIT LES FONCTIONNAIRES DES HÖPITAUX AVEC LE RAKET\n",
      "Dieu vous récompensera au centuple merci pour eux.\n",
      "BRAVO TRES BON GESTE DE GENEROSITÉ ET DE Solidarite Diaspora Camerounaise\n",
      "Bon geste frangin\n",
      "J apercie le geste vraiment bcp de courage mn frere\n",
      "Force à vous !\n",
      "Big up à vous 👌🏾\n",
      "VOUS ETES DES LIONS\n",
      "Foster La Latte Lavrov\n",
      "Foster La Latte Lavrov\n",
      "Foster La Latte Lavrov\n",
      "Au delà du bavardage et des \"Biya Must Go\" Stupide, des actions concrètes, vraiment félicitations !!!!\n",
      "Author\n",
      "S.O.S DON de SANG\n",
      "Cabrelle Elinguita\n",
      "Merci les coupains\n",
      "Comment faire pour rejoindre l'équipe??\n",
      "Agnès....😊\n",
      "Agnes-rodger Atalaku de ça... On a oublié présidente du 10 décembre\n",
      "Fiers de toi Agnes-Roger Agnes-rodger Minsi Kensa.\n",
      "Rien ne manque c'est tout elle 😎😎\n",
      "Consuela Ndoum\n",
      "Félicitations ma personnalité\n",
      "Abé aneu asseng ! Le sein est dehors moi j'ai tellement donné mon sang comme je suis O+ jusqu'à j'avais même la carte de donneur éééh Dieu qui sait à quoi il a pu servir depuis tout ce temps mes larmes pleurent\n",
      "7 ans d'études pour 250 mil pendant ce temps les influenceuses ont des millions .le monde en l'envers .faut vraiment être guidé par Dieu pour ne pas être dans ses conneries.\n",
      "L'autre jour je suis allée posée les ongles,,a la fin j'ai dit à la dame de me remettre les saletés là juska j'ai pris le ballet et balayé..\n",
      "La go n'a rien compris 😊😎 je la regardais slmt avec un oeil que euiiil...😒😒😒😒\n",
      "Maa malam sache que tu seras toujours combattue parce-que tu fais le bien tu te bats pour une bonne cause. Nous on est avec toi on suit tes conseils à la loupe. Mangeons la prière c'est tt\n",
      "J'ai une question que je pose à tout les adhérent(es) de cette page sauf erreur de ma part ? Où avec vous déjà vus (télé ou occulaire) un membre de nos gouvernants faire don de leur sang et ensuite pourquoi quand son t'ils maladent où vont t'ils se soigner ? La Bible déclaré : \" mon peuple perit par manque de connaissance\".\n",
      "Eh chers arnaqueurs merci pour le travail que vous nous donnez maintenant à nous qui avons mal aux yeux.😏😏😏 Dieu vous voit nous aussi on mérite d'être édifiés et protégés spirituellement\n",
      "on va sauf que forcer et lire.merci chef d'état\n",
      "Malammm a dit haut ce que bcp de gens font dans les hôpitaux,une seule chose est que la prière est au dessus de tout ça,du diable et ses enfants,mes frères et sœurs,mettons nous dans la première à fond ,vous verrez les biens faits,dans le psaume 91qui dit\"mille tomberont à ma gauche et dix mille à ma droite,je ne serai pas atteint....\" Priez avant de faire les dons de sang,rien ne vous arrivera,tout au contraire vos prières renverseront ce que le diable a prévu\n",
      "Cette histoire je l ai déjà entendu dans mon pays une fois ,raison pour laquelle je ne donne plus du sang et voilà quelqu un d autre qui le certifie une fois encore.\n",
      "Mais c est déplorable hein ,des innocents vont mourir gratuit a cause du manque de sang ,car je ne vais pas être entrain de sauver en donnant mon sang et me mettre dans des problèmes mystiques\n",
      "J'ai commenté on m'a bloqué 🤦‍♀️🤦‍♀️🤦‍♀️🤦‍♀️\n",
      "Les buveurs de sang c'est fini pour vous. Les coiffeuses je prends mes cheveux je go avc mon peigne. La manucure fini remet mes ongles haha malam tu nous édifies. On fait d'abord maintenant si Dieu a décidé de ce qui va suivre tant mieux\n",
      "Moi on a toujours refusé de prendre mon sang ..... Je force même on refuse de prendre ! C’est très important ce que vous dites Mme Les chroniques de Ivana Chef D'état développer sa spiritualité.\n",
      "Aller mem juskau niveau de médecin c'est peu. J'en connais que mem à l'école de formation pour infirmières on a voulu l'introduire ds la secte. Une maman en plus. Genre elle t dit ma fille il faut être sage ds la vie... Elle est la pr détourner les jeunes enfants des gens qu'on envoit en stage. Si ça m'énerve mem j l'affiche ici einnnn. Sassekoi ça 🤣🤣🤣🤣\n",
      "Une amie belle et intelligente a eu le mal de tête elle est partie se faire consulter à l'hôpital x directement ont la hospitalisé le temps d'informer sa famille qu'elle est à tel hôpital elle est décédé. les médecins ont dit que la la cause étai manque de sang . La famille n'a pas laissé l'affaire ils ont marchent chercher pour savoir ce qui a tué leurs filles bimmmm le voyant leurs on dit que ( c'est l'hôpital x ) et qu'il ne pouvait rien faire car ils ya trop de personnes qui ont bus son sang et là il ne pouvait pas faire le retour a l'envoyeur car lui même sa vie en dépendrait .\n",
      "Moi je me suis déjà posé la question à savoir : le reste de sang dans le tube pour les analyses qu'on nous prélève beaucoup la part où ? 🤔🤔🤔🤔🤔🤔. Quant il veulent prélevé si sa ne rempli pas le tube il n vont pas laissé alors k la quantité qu'ils utilisent pour les analyse c une goûte\n",
      "Le sang, c'est la vie. Tu vas donner ta vie et tu ne sais pas ce qu'on en fera après... ya des produits qui sont vendus en pharmacie qui remontent très vite coe le sang, pourquoi ils ne le préscrivent pas?\n",
      "Ceux qui s'agitent sont ces gens là qui vont ces pratiques.\n",
      "\n",
      "Priez beaucoup et surtout façonner vous même votre propre relation avec Dieu.\n",
      "\n",
      "La couverture spirituelle est u\n",
      "si vous ne croyez pas à cette histoire histoire cherchez à lire le livre de emmanuel Eni je ne sais pas l,orthographe de sont nom est correct c,est un ancien satanique rependi le titre c,est ( délivré des puissances des tenerbre)\n",
      "Haaa vraiment je ne dis pas que malam ne dit pas la vérité ou pas ... moi je donne mon sang pour sauver des vie franchement mais depuis votre publication d'hier je ne veux plus donner mon sang ... car j'ai peur et je ne sais pas trop quoi faire ou comment agir puisque en refusant de donner mon sang aussi je fait chuter la disponibilité du sang comme d'autre personne qui vont penser comme moi ... c'est très difficile de penser au malade et penser aussi à sa vie en sachant que en donnant tu sauves des malades 😷 ou tu te donne des problèmes.\n",
      "J'ai dû supprimer yvana chef d'état dans mes amis complètement et demandé à recevoir slm les publications de mes amis pour pouvoir me retrouver sur le bon compte la mère\n",
      "Mon goyavier de luxe tu n a même pas à te justifier ce que tu as fais est très normal et tu n a pas appeler ce docta pour venir te raconter ça donc les gens doivent continuer à se vider de leur énergie pour enrichir les plus riches élans désormais ils vont extraire le sang directement sur leurs enfants\n",
      "Le seul bon médicaments sur cette terre à l'heure actuelle c'est la prière priez sans cesse même dans notre cœur partout où nous posons nos pieds en un mot mangeons la prière\n",
      "Tu ne dis rien de mal .\n",
      "Beaucoup d'hôpitaux travaillent pour le royaume de ténèbres. Des médecins mystiques, il y en a pleins. Je sais de quoi je parle . Même s'il ya encore de bons hôpitaux, ils sont très peu. Exactement comme les églises pentecotistes dites de reveil , ça existe les vrais pasteurs, mais on les compte au bout des doigts .\n",
      "J'ai une cousine,qui est décédé il y a un et quelques mois,lorsqu'ell\n",
      "e était hospitalisée dans un hôpital de référence de la capitale,j'ai eu à faire un don de sang...Chose curieuse de toute ma vie c'était la deuxième fois que je donnait mon sang ,mais cette fois il y avait comme un truc qui n'allait pas, heureusement pour moi,je ne suis facile après ce don de sang j'ai fait deux semaines de maladie, anémie sévère mais j'ai juste pris la résolution de ne plus donner mon sang à cet hôpital...\n",
      "L’histoire de l’ano n’est pas complète car il ne peut pas connaître tous ces détails sans que lui même n’y soit dedans, il a été sûrement tenté d’intégrer mais il ne veut plus voila pkoi on le persécute. Qu’il donne la vrai version et la suite\n",
      "Je comprends pourkw certaines eglise ne font pas les transfusions sanguines\n",
      "Maman les commentaires là donnes la chaire de poule ooooooh on est sécurité nulle part au marché problème a l'église problème au salon de coiffure problème même a l'hôpital où dépose nos derniers espoir problème éééh waaaaaar seigneur le monde si est gâté mieux tu reviens on recommence à zéro au jardin😭😭😭😭😭😭😭😭😭\n",
      "Pourquoi tu as besoin de te justifier. Garde ta hauteur s’il te plaît 🙏🏽 tu fais ta part ceux qui veulent comprendront le reste basta\n",
      "A lire les commentaires je me rappelle que ma mère m’a confiée qu’on ne devait pas l’obliger à entrer dans le scanner. Que c’est depuis qu’elle en est sortie qu’elle se sent vide. Et elle est finalement morte klk jours après\n",
      "Ton injure là me tue de rire 😁 😁\n",
      "Ne les gère pas nous on as compris le message c’est le plus important le mal existe partout\n",
      "Tu seras tjrs combattue pour ce que tu fais, tout le monde n'a pas le cran de dénoncer les attrocités cachées de la société. Mais tu dois rester solide comme un roc car tes histoires nous édifient bcp, surtout une comme moi qui voyaient les choses telles qu'elles, mais grâce à toi je fais plus attention maintenant à tout. Courage à toi\n",
      "Je comprends pourquoi certaines religions comme les témoins de Jéhovah refusent les dons de sang et les transfusions sanguines\n",
      "Il\n",
      "Ne faut pas être docta pour savoir que les gens peuvent mourir par cause de sang\n",
      "J’ai dit cette histoire n’est pas clair\n",
      "Giselene Ngakam\n",
      "Massaaa eeh à peine publier cet histoire on veut déjà te manger cru cmxa malam!oyaarrr c grave ooo u crage oo malam dit tjr les vérités.\n",
      "Malam merci pour tes conseils,mais les médecins du pays si,hummm, tout ce que le médecin a dit est plus que vrai,moi je savais depuis que les médecins sont dans des loges,je n'ai pas envie de trop parler de peur que ne me cherche partout,car j'ai un dans ma famille qui fait des ravages à cause des grands postes,mais bon le message est passé\n",
      "La mère la bombe que ta lâche hier la hummm🙉🙉🙉🙉🙉🚴🚴🚴🚴🚴🚴🤣🤣🤣🤣🤣\n",
      "Malam continue de faire le bien au tour de toi force à toi ma belle qui se sent morveux se mouche la vérité dérange beaucoup mes ils vont souffrir de l'entendre\n",
      "Hummm tjrs inspiré hein malgré la sentence fatale..du courage\n",
      "Qui se sent morveux se moche Dion... On n'a pas d'explications à leur donner\n",
      "Sachiez que même nous qui publions ne sommes pas à l abri😢😢\n",
      "Le tout c'est de rester en éveil dans la prière avant de faire quoique ce soit\n",
      "Le seigneur nous couvrira de son précieux sang.merci pour tes bienfaits la reine mère.\n",
      "Hummm c'est grave dèh.\n",
      "Jai.bien dis quils te lisent ici nombreux....\n",
      "Bien parlé mama\n",
      "Que le seigneur nous protège\n",
      "Mama, Ivana chef D'etat officiel stp j'aimerais aussi recevoir des ondes stp 🤲🏾🤲🏾 .\n",
      "Mylène Sandy\n",
      "Eweeeeeeéeh 😵😵 seigneur\n",
      "First 😍😍😍😍😍😍😍 merci seigneur\n",
      "Claire mallam avant de donner le sang, on doit prier et se protéger au village .merci pour le bon conseil\n",
      "Mes yeux\n",
      "Sow Aïssata ni te kabako doooo yeee bi tougouni? En tt cas les médecins maliens n'en font pa parti parck façon dont ils galerent jusqu'à tu as pitié de d'autres\n",
      "Maaa sois seulement forte parce que vu que tu nous édifie ainsi y’aura toujours des gens qui voudront te combattre parce que leur secret est exposé\n",
      "Dieu veille 🙏♥️\n",
      "On ne va pas arrêter de faire du bien à cause de la sorcellerie\n",
      "Le sang ne manque pas ein il y'en mm en stock mais ils veulent le frais frais pour leur choses d'abord avant de remplacer... Ehhh mon sannnng ehhhh\n",
      "C'est grave seulement\n",
      "Ma vie va changer un dimanche gloire à Dieu\n",
      "Tata Ivana ne te rabaisse pas à leurs niveaux\n",
      "Tata ivy pardon ne te justifi plus, pardon seulement tu leur donne de l'importance en faisant ça, il faut passer comme un taxis plein\n",
      "T'occupes pas d'eux. Chancun comprends a sa manière.que ce soit vrai ou pas .il faut tout donner a dieu avant de faire quelque chose.que Dieu nous protège tous.amen\n",
      "Que DIEU nous protège.\n",
      "Même si c'est comment malam dit touzour la werité on vas sauf que la surlivez jusqu'au ciel\n",
      "Ma'a ouvre touzour l'esprit stp!!\n",
      "C'est une triste réalité ooooh,que ceux qui veulent croire y croient car ça existe vraiment.L'Afri\n",
      "que et ses mystères.Ça ne m'étonne même pas walayii🤧\n",
      "Ils vont toujours te combattre mais ils n'arriveront jamais à te faire tombé. Continue ton travail et la bonne cause Mme Yvana\n",
      "l'heur seras lu malam courage\n",
      "Massa le dehors est risqué\n",
      "Lorsqu'un de vos proches mourra par manquer de sang car tous les banques de sang seront vides\n",
      "Vous changerez vos commentaires.\n",
      "Si vous ne pouvez pas donnez de votre sang pour sauver des vies pas grave mais ne decouragez pas ceux ki veulent donner svp\n",
      "\n",
      "Restons juste en priere\n",
      "Puisse les divinités te bénir tu as un lourd combat. Démanteler les ténèbres.\n",
      "La solution est de traction sang avant de donner, soit par la prière, soit autrement, là ils ne verront que du feu\n",
      "Ma Malam de luxe dit touzour la wérité👍👌\n",
      "Quand tu te bats pour la bonne cause c’est ça\n",
      "Effectivement pas évident a lire avec les écrits dessus mais avec les arnaqueurs pas facile\n",
      "Hummm Seul Dieu nous aidera\n",
      "Besoin d'un représentant au Tchad aussi ooooo. Ivanna\n",
      "Le malin ne se fatigue jamais\n",
      "Massah moi je suis dépassé\n",
      "Moi je ne donne pas eeeeeee\n",
      "Vraiment 😒hein\n",
      "Toujours combattu mais jamais abattus\n",
      "Force a toi malam\n",
      "La terre est bourrée de mal\n",
      "Oooh Dieu protège nous au nom de Jésus\n",
      "Le sorcier a senti le danger\n",
      "Le maboulisme de certaines personnes crève le plafond ne gère pas ça pisse sur eux à grosse goûte\n",
      "C'est meubi élan que j'ai retenu\n",
      "Malam dit toujours la vérité 😎\n",
      "Les anarqueurs continuent oohh\n",
      "SOYONS VIRGILANT\n",
      "Protection plus ,nous sommes des africains et il ya ce qu'on dit on empoisonne ton corps ,même le sorcier sera étonné de ton sang en lui comme lame de rasoir 😂😂\n",
      "Ils ses sentent concernés. Les démons habillés en blouse .\n",
      "God protect us oooooooh 🙏😪😪\n",
      "Il ya eu un cas dernièrement le jeune ayissi ngono minalmi vous voulez la vidéo ou c'est Ivana ki aussi filmer ça 🏃🏼‍♀️🏃🏼‍♀️🏃🏼‍♀️🏃🏼‍♀️🏃🏼‍♀️je passais comme un bus plein\n",
      "Voilà déjà les arnaqueurs oooo il a déjà publié\n",
      "Malam fais slmt ton travaille\n",
      "😥😥😥😥Hmm les commentaires\n",
      "Heureusement que je ne fais jamais le don de sang on m'a déjà traité de méchante\n",
      "Le pb avec les don là c'est que ton sang que tu vas donner pour ta personne c'est pas avec ça qu'on fait la transfusion on te donne une poche qui y était déjà\n",
      "Jésus prend pitié et épargne nous😮\n",
      "Tu as envie de dire quoi maman Yvanna ????😂😂😂😂😂😂😂\n",
      "Ivana, Dieu est avec toi, rien ne t'arrivera au nom de Jésus. Mais j'aimerais te dire : tu as besoin du seigneur Jésus-Christ de Nazareth dans ta vie.\n",
      "C'est vrai tu as un \"pouvoir\" avec lequel tu arrives peut-être à \"protèger\" les siens et toi sur cette terre. Mais ça ne suffit pas !\n",
      "\n",
      "Il te faut celui qui peut non seulement le faire, mais qui peut également sauver ton âme et celles des membres de ta famille et éventuellement tes proches.\n",
      "\n",
      "Tu dois te repentir sincèrement et accepter le seigneur Jésus-Christ dans ta vie afin que tu sois sauvé toi et ta famille, et que vous bénéficiez de la vie éternelle que Dieu réserve pour ses enfants qui le servent en esprit et en vérité.\n",
      "\n",
      "Et à vous les abonnés de la page, sachez que on vie dans un monde où le mal est omniprésent à cause du péché.\n",
      "\n",
      "Ce qui signifie que dans ce monde, comme l'a toujours préconisé Ivana, vous devez avoir une véritable protection spirituelle ; parce que vous serez toujours confronté à toutes les choses qui sont publiés sur cette page et à bien pire (si vous n'êtes pas à 100% avec Dieu, et lui avec vous)car tout cela n'est rien comparé à l'enfer.\n",
      "\n",
      "Le conseille que je peux vous donner, c'est de chercher plutôt à sauver vos âmes afin d'obtenir la vie éternelle et pour cela, il y a que Jésus-Christ de Nazareth. C'est lui le chemin, la vérité et la vie.\n",
      "\n",
      "Il est écrit dans Mathieu 6:33: cherchez premièrement le royaume et la justice de Dieu; et toutes ces choses vous seront données par-dessus.\n",
      "\n",
      "Excellent dimanche,\n",
      "Bon début de semaine,\n",
      "Que la paix soit avec vous tous.\n",
      "Soyez richement béni en Jésus.\n",
      "Trop bien, ces arnaqueurs vont seulement faire ta publicité maintenant 😊😊\n",
      "Tu ne dis rien tsuipssss. Moi même j'ai envie de dire a ton abonné et toi elang mebi\n",
      "YESSSSS je d'accorise, vous les autres là MEBI ÉLAN\n",
      "Toujours combattue jamais abattue on ne déracine pas facilement un goyavier\n",
      "Je te n'aime crooooop malam🤣🤣🤣que mebi elang 🤣🤣🤣🤣\n",
      "Mince c’est grave hein 😢😢😢\n",
      "Vérité\n",
      "Que le seigneur te protège ivana\n",
      "Ces pas simple hein!! Ce monde fait vraiment peur\n",
      "C'est la magie\n",
      "Les combats seront différents de jour en jour mais tu les gagnera toujours\n",
      "Toujours combattu jamais abattu\n",
      "Hum ekiéeee vrai mebi elang! !!!!\n",
      "Celui kibne se reproche de rien n'a peur de rien\n",
      "Qui se sent morveux n'a qu'à aller sauf que se moucher et très bien même\n",
      "C'est terrible\n",
      "Bonsoir donc nous ici au Gabon on n'a rien\n",
      "Bafoussam est où la docteur\n",
      "Mince\n",
      "Faut aussi avoir les représentants au Gabon malam🥺🥺🤲\n",
      "Pour le reste MEBI ELANG 🤣🤣🤣🤣 j'ai aimé\n",
      "Le monde oooo ,on va faire comment\n",
      "Ne gère pas les détails malam\n",
      "Ma'a Ivana l'arnaqueuse de l'autre faux groups la ne veux pas lâché prise avec tes publication hein\n",
      "les cliniques vont seulement me tuer .\n",
      "M'a mère l'insulte la est même petit pour eux\n",
      "Mais les gens sont trop toquard hein\n",
      "Malam est cq ta part va loin\n",
      "Je ne donne Nick co cok\n",
      "C'était évident, fallait s'attendre à ce que les marabouts fassent leur sortie\n",
      "Qui va encore donner ?😏😏\n",
      "Okay oooo🤔🤔🤔\n",
      "Humm le dehors risqué vraiment\n",
      "Que MEBI ILAN🤣🤣🤣🤣🤣🤣🤣🤣🤣🤣🤣🤣🤣🤣\n",
      "Elang à eux\n",
      "Hummm\n",
      "Je ne donne plus eeehhh\n",
      "Je donne les mains\n",
      "C'est grave\n",
      "Wawouh\n",
      "On en a rien a foutre ...\n",
      "Vient*\n",
      "Malam MEBI QUOI?🤣🤣🤣🤣\n",
      "Mince alors\n",
      "Mince\n",
      "Ils ont peur?\n",
      "Ce monde!!!\n",
      "Ils se sont reconnu malam\n",
      "C'est partout même les ingénieurs en bâtiment sont dans la loge ,pour avoir un chantier de R+....si tu n'es pas dedans tu n'auras jamais les gros chantiers en main avait un homme chez les chroniques de binku donc rien ne nous étonne plus.better ne même pas fréquenter yeuch tu fais les longues études pour être pris au piège après\n",
      "J'ai fait un don de sang pour le frère d'un ami à l'hôpital la Quintinie et j'ai fait un autre don de sang à l'hôpital Acha de bepanda et honnêtement depuis la c'est devenu un peu dure de mon côté bien que j'étais déjà convoité mystiquement après ces dons de sang c'est devenu le Terminator 😔 et depuis la j'ai décidé de ne plus jamais donné de sang\n",
      "Hummmm\n",
      "Est ce nécessaire que tu insultes alors les gens ?\n",
      ". Final\n",
      "Les chroniques de Ivana Chef D'état merci pour les onde positive que j’attends recevoir\n",
      "Les chroniques de Ivana Chef D'état tu fais bien ton travail et nous ne te remercierons jamais assez 🙏🙏🙏🙏 merci pour les nouvelles choses que tu nous apprends chaque jour 🙏🙏🙏😍\n",
      "Vraiment mieux les petits centre de santé 🤔\n",
      "Valencia josepha\n",
      "Hum...\n",
      "Yes\n",
      "Hum\n",
      "Hum\n",
      "Ils ont mis les organes Vannel Takam\n",
      "Voilà l'autre la mère\n",
      "Malam merci vraiment !! Finalement nous ne sommes plus en sécurité dans notre propre vie😥\n",
      "Seigneur prend pitié de nous!!😟🙏\n",
      "Moi je ne donne pas mon sang!!!! Je n'aide personne à par mon propre sang avec mon sang\n",
      "j m pose juste la question de savoir si les gens de ce corps ont deja donne un peu de leur sang pour sauver leurs propres patients qui sont en mank de sang et qui n'ont pas de donneurs compatibles ou pas sous la main?? quant a moi j donne svt et k Dieu m protège\n",
      "Ivana chef d'état maintenant avant de donner mon sang je vais prier dessus !! Merci de mettre ce genre de choses à jour\n",
      "Ivana pardon mon nom n'est pas aussi beau à prononcer dans ta bouche miss ? 😌\n",
      "Yeuch nous sommes en sécurité nul part c est grave que Dieu nous vienne en aide\n",
      "Compréhension de texte difficile pour plusieurs\n",
      "Prions seulement ooo demeurons dans la prière le diable a pris possession de la terre\n",
      "Qu’on te laisse tranquille malam ta publication d’avant a été bien comprise donc celui qui se sent concerner\n",
      "Qui va se confesser 🚶‍♀️\n",
      "Ce snt ds sorciers,ils ce partagent le sang et ls organes humains avc ls docteurs logistes..\n",
      "Je ne donne plus mon sang\n",
      "Yes oh\n",
      "Et au Burkina Faso ?\n",
      "Brillant Joseph\n",
      "Gracieuse Nathy\n",
      "Bree Jeff\n",
      "Carine Francine Atemengue\n",
      "Estelle Mba\n",
      "Lili Bat\n",
      "Willard Rosy\n",
      "Nini Grace de Dieu\n",
      "Elodie Kemelle Able\n",
      "Et dire que je m'étais promis de donner du sang un jour aux nécessiteux😥\n",
      "Pour le reste Koi???? La mère appui sur le bouton repeat \" mebi ....\" 😄😄😄😄\n",
      "Prions sans cesse🙏🏾🙏🏾 satan fait son boulot à fond .. Malam ne fait que nous sensibiliser heinn.\n",
      "Pourquoi lui en vouloir!?\n",
      "Eeeaaah vis et vois .😎 Pourtant certain.e.s parmis nous échappons à bcp de choses à cause des ses conseils .👌\n",
      "quand je dis que mon assurance vie et santé c'est Jésus-Christ lui même. on dit que j'aime trop entendre. j'ai échappée à des trucs bizarre à l'hôpital un jour grâce à une infirmière anglophone.il ya de cela 6ans. que Dieu la bénisse toujours.\n",
      "Moi je ne donne plus jamais le sang sauf si c'est quelqu'un de ma famille on va se donner entre nous... Je suis donneuse universelle et les hôpitaux ont mm mon numéro et m'appellent souvent lorsqu'il rencontre des cas graves. Tt ça pck je me dis que quand je vais mourir Dieu va au moins compter que j'ai sauvé ses enfants et pardonner mes péchés. Mais c'est ce que vous venez nous faire pendant qu'on a le bon coeur!!! Je ne donne plus jamais. Si je SS malade tte ma famille va me donner on est plus de 13 avec le même groupe. Bande de sorciers.\n",
      "Quand je vous dire que l'hôpital et moi sa donne pas que ohhhh mes pensées sont toujours apart\n",
      "Voilà maintenant Stéphane Kam's\n",
      "Les chroniques de Ivana Chef D'état tu as vu ça malam ?? Le sorcier là ne veut pas te laisser deeh\n",
      "Même avant cette publication,je sais ce qui se passe ds les ban*ques de s*ang ...zéro don\n",
      "Mebii elangggg🤣😂😂😂😂😂😂😂😂😂 waar j'ai aimé,\n",
      "J'ai juste pitié des jeunes ki ne veulent pas bossé et font de ça leur business\n",
      "Ma co Cecile Gnone vient lire l'histoire ci mama\n",
      "Mon commentaire est dedans hein .....j'ai déjà briss 😂😂😂 Grace Yohan viens voir ta sœur\n",
      "Beaucoup sont dans les loges comme dans tous les domaines. Et nous autres sont parfois persécutés. Ce médecin a raison. Mais le Christ est avec nous. C'est pourquoi faut toujours demander à Dieu la grâce d'être pris en charge par des médecins qui servent Dieu a travers les hommes et non ceux qui prennent les énergies des autres pour leur gloire. J'ai une amie qui a été persécutée, elle a reçu des propositions en 5e année de médecine de la part d'un professeur de pédiatrie dans ce pays. Mais elle était spirituellement\n",
      "avisée. Grâce à ses parents aussi elle a su déjouer cette invitation. Dans chaque promotion de médecin ils réussissent toujours à faire mourir ou a rendre psychopathe certains médecins. J'en connais quelques exemples. C'est pourquoi nous devons être unis au Christ. Beaucoup de médecins exercent leur métiers étant tout le temps dans le combat spirituel. Nombre d'entre nous ne sont pas conscients des réalités spirituelles. C'est pas seulement les praticiens. Même les malades. Surtout ceux a opérer. Beaucoup portes des dépôts spirituels négatifs. C'est pourquoi il faut prier que le Seigneur éloigne de notre métier tous les esprits négatifs. Le monde spirituel est beaucoup plus fort que ce qu'on pense. C'est pas seulement à l'hôpital. C'est partout que le diable agit. Ça dépend de chaque individu. Si tu décides de servir Dieu et aimer tu seras toujours opposé à ceux qui servent le diable. C'est vrai a l'hôpital, c'est vrai en société, c'est vrai dans tous les cadres de vie.\n",
      "Mon neveux était malade le palus et Anémie sévère ont nous à hospitalisé j'ai fait un constat que a partir de minuit jusqu'à 5 h les gens mouraient et c'est tjr à l'heure là que la maladie s'aggravait sur les patients qui était à côté de nous . moi je le gardait juste la nuit car en journée j'étais occupé au boulot .donc moi avant de partir à l'hôpital je me armait de Bible , sel béni et eau bénite le soir je faisais sa douche avec le sel et eau béni et a partir de 23 je commençais à lire le psaume 91 en répétition et je priè . seigneur je sentais les présence invisible dans la salle . Quand je prié les patients dormait bien jusqu'au matin et bimmmm les médecins de garde m' interdisait de prié que hoo je doit laisse les patients dormir hummm\n",
      "Bree Jeff\n",
      "Suzane Verane\n",
      "moi je me demandais toujours pourquoi il faut une campagne de sans gratuit. mais quand quelqu'un est malade, on demande à un membre de sa femme du sang pour la plupart des cas, et s'il faille que le sang vienne de l'hôpital ça coûte très très cher ??? que fait on avec tout le sang récolté chaque temps chaque temps? c pourquoi je passais toujours ma route comme un taxi plein. et heureusement\n",
      "Vanessa Soppo\n",
      "Et ils viennent toujours chercher leur sang là dans les universités 🤦‍♀️🤦‍♀️🤦‍♀️ après les enfants des gens se retrouvent spectateurs de leur propre vie,\n",
      "Marie Guiam's viens lire\n",
      "Je suis sûr qu'il y a des médecins de l'Hôpital Central de Yaoundé parmi ces faux profils. 👌\n",
      "Voilà le numéro pour le Bénin 😌😌😌 Cyr Moyane\n",
      "Ghis Noudja, Carine Kouana. Venez lire\n",
      "Annick Noelle …\n",
      "Yvana le Seigneur JÉSUS-CHRIST utilise qui il veux pour parler à son peuple\n",
      "\n",
      "Si Dieu permet que tu dévoile les oeuvres des ténèbres certainement c'est pour sauver des âmes !!!!!\n",
      "\n",
      "Mais n'envoie pas les âmes à aller chercher la protection au village car c'est toujours Satan qui agi là-bas, les traditions et autres c'est la sorcellerie donc le maître est satan ... ...\n",
      "\n",
      "Donc sachez que c'est JÉSUS CHRIST qui protège et qui sauve c'est lui qui a le dernier mot\n",
      "\n",
      "Dieu permet tout ceusi pour humilier le diable....\n",
      "\n",
      "Alors à tout les lecteurs et lectrices de cette page c'est bien se s'édifier par ici je vous encourage même\n",
      "\n",
      "Mais saches que JÉSUS CHRIST EST LE TOUT PUISSANT... .... .... !!!\n",
      "\n",
      "Prochainement je vais un Peu expliquer un petit principe avec ces histoires de démon marabout et magicien ( l'armée de satan) comment ils fonctionne pour vous distraire.\n",
      "\n",
      "Yvana Que Dieu te bénisse abondamment, je sais et je suis convaincu que tu vas servir JÉSUS CHRIST\n",
      "d'ici 2 ans !!!!!!!!!!!!!!\n",
      "\n",
      "Ton témoignage sera similaire à celui du docteur papa Tsala Essomba \"\"paix à son âme \"\"\"\"\n",
      "Ça commencé avec les menaces 🥺😓\n",
      "Ghislain Kamka\n",
      "Le sang même que les gens donne njhoo eus il vende n'importe quoi\n",
      "Depuis moi j'avais suivi que les sectaires payent le sang frais dans les banques de sang des hôpitaux, c'est connu depuis. Laissez la tranquille. Et c'est mm bizarre que le sang manque dans un hôpital.\n",
      "Avant qu'on transfuse un malade, vous donnez l'argent dune poche plus un donneur. Mais il ya tjrs manque, comment?\n",
      "Moi j'ai donné le sang pour ma nièce, on teste d'abord avant d'accepter le donneur et ce qu'ils transfusent est moins que ce qu'on donne. Je n discute pas c'est une information vraie.\n",
      "La honte sur eux dommage on est déjà informé de leurs mal faisance\n",
      "Merci pour ce que tu fais,❤️🤜🏼🤛🏻\n",
      "Tu cherches a convaincre qui? Moi je suis un peu sceptique comment quelqu'un qui ne fait pas partie d'un système maîtrise les actions mystiques ?? Il sait que c'est pour l'aura ,il es assis derrière la banque de sang quand les ministres viennent boire le sang toi tu dis être spirituel tu as déjà vu un sorcier s'assoir parmis les personnes simples pour poser ses actions de sorcellerie ?? Je m'attendais qu'à même dans ce post a voir les messages des faux profils médecin mais non tu as recopier les messages de ceux qui témoignent sur des fait banal ou commun pour nous dire comment les faux profils médecin te harcèle... Ne me bloque pas juste question de bon sens et logique\n",
      ".\n",
      "Paola Kawi\n",
      "Il faut absolument que tout le monde soit Protégé l'heure est GRAVE\n",
      "Ma grand père est partie à l'hôpital de ses propres pied ...on l'a interné en urgence .on a rien compris .2 jours après elle est morte ... rip meme😞😞😞\n",
      "Moi Jo dis que j attend pour les boulangeries euh 😥😥\n",
      "Beni Amougou\n",
      "Mel Beautytouchviemt voir eeeh\n",
      "Vraiment ils arrêtent les bêtises il vont eux mm donner leurs sang je donnerai encore mon sang si et seulement si c un menbres de ma famille et amis proches ma mère c mm devenu le Bizness des jeunes chômeurs et donne leurs sang en échange de l argent vraiment changeons nos mentalités et soyons logique\n",
      "En 2005 une infirmière exerçant dans un hôpital public ici à Douala nous avait sérieusement déconseillé de donner nos sang car les vrais sang étaient utilisés pour des fins satanique et étaient remplacé par des sangs synthétique voilà pourquoi parfois il faut plusieurs sacs de sang pour que le patient s'en sorte. Depuis cette date je me méfie.\n",
      "On ne donne pas le sang oh ah! Pourquoi un don devient payant et même très chère\n",
      "L'ano là ment. Guéee la plupart des médecins sont dans les loges. Un menteur patenté\n",
      "Blanche Tienou viens par ici lire les choses\n",
      "Maman ils sont rapide🤔\n",
      "Merci malam, mais malam je voudrais savoir où est situé votre agence à foumban ?\n",
      "Un dimanche glorieux avec notre malam 🙏🙏🙏🙏 je reçois mes ondes positives\n",
      "Belle initiative ,vous en aiderez bcp des personnes\n",
      "BELLE INITIATIVE\n",
      "Corine Tonye\n",
      "Yvette Tchatat Noutcha\n",
      "Reste toujours avec ta beauté ma fille à moi\n",
      "tres bonne initiative. Au cas où quelquun souhaite faire un don de sang, comment ça se passe dans le cadre de votre association?\n",
      "Bonne initiative\n",
      "Je suis à fond avec vous, mes amis. Le combat continue\n",
      "Bravo big up et longue vie a vous\n",
      "Sos don de sang\n",
      "❤❤❤\n",
      "😍😍😍😍\n",
      "Donnons notre sang, préservons la vie\n",
      "vous faites quoi de ce don de sang? vous vendez ou vous refaites de don au malade?\n",
      "Que notre Seigneur Jésus-Christ qui nous a rachetés par le don de son Sang vous y accompagne. et soyez -en comblés de grâce et de bénédictions durant.\n",
      "Jean Christ Ngunte\n",
      "Après les médecins vont prendre ça pour vendre dans les hôpitaux\n",
      "Bravooo\n",
      "Très bon à savoir\n",
      "Ayah\n",
      "Don de sang mais y'a des pénuries alors kon donne merci de ravitailler les vampires\n",
      "Jean Christ Ngunte viens alors lire.\n",
      "C'est bien Nor.\n",
      "❤️❤️❤️❤️❤️\n",
      "Waouh... voilà les vrais pays ❤️... tout est à refaire chez nous 👌\n"
     ]
    },
    {
     "ename": "KeyError",
     "evalue": "'comments_full'",
     "output_type": "error",
     "traceback": [
      "\u001B[1;31m---------------------------------------------------------------------------\u001B[0m",
      "\u001B[1;31mKeyError\u001B[0m                                  Traceback (most recent call last)",
      "Input \u001B[1;32mIn [25]\u001B[0m, in \u001B[0;36m<cell line: 1>\u001B[1;34m()\u001B[0m\n\u001B[0;32m      1\u001B[0m \u001B[38;5;28;01mfor\u001B[39;00m post \u001B[38;5;129;01min\u001B[39;00m get_posts(post_urls\u001B[38;5;241m=\u001B[39murllist, credentials\u001B[38;5;241m=\u001B[39m(\u001B[38;5;124m'\u001B[39m\u001B[38;5;124manthonyryan232@gmail.com\u001B[39m\u001B[38;5;124m'\u001B[39m, \u001B[38;5;124m'\u001B[39m\u001B[38;5;124mfg+KFtn+E3kXN+\u001B[39m\u001B[38;5;124m'\u001B[39m), options\u001B[38;5;241m=\u001B[39m{\u001B[38;5;124m\"\u001B[39m\u001B[38;5;124mcomments\u001B[39m\u001B[38;5;124m\"\u001B[39m: \u001B[38;5;28;01mTrue\u001B[39;00m}):\n\u001B[1;32m----> 2\u001B[0m    \u001B[38;5;28;01mfor\u001B[39;00m x \u001B[38;5;129;01min\u001B[39;00m \u001B[43mpost\u001B[49m\u001B[43m[\u001B[49m\u001B[38;5;124;43m'\u001B[39;49m\u001B[38;5;124;43mcomments_full\u001B[39;49m\u001B[38;5;124;43m'\u001B[39;49m\u001B[43m]\u001B[49m:\n\u001B[0;32m      3\u001B[0m             \u001B[38;5;28mprint\u001B[39m(x[\u001B[38;5;124m'\u001B[39m\u001B[38;5;124mcomment_text\u001B[39m\u001B[38;5;124m'\u001B[39m])\n",
      "\u001B[1;31mKeyError\u001B[0m: 'comments_full'"
     ]
    }
   ],
   "source": [
    "for post in get_posts(post_urls=urllist, credentials=('youremail', 'yourpassword'), options={\"comments\": True}):\n",
    "...    for x in post['comments_full']:\n",
    "            print(x['comment_text'])"
   ],
   "metadata": {
    "collapsed": false,
    "pycharm": {
     "name": "#%%\n"
    }
   }
  },
  {
   "cell_type": "code",
   "execution_count": 27,
   "outputs": [
    {
     "name": "stderr",
     "output_type": "stream",
     "text": [
      "C:\\Users\\kamga\\PycharmProjects\\scientificProject\\venv\\lib\\site-packages\\dateparser\\freshness_date_parser.py:76: PytzUsageWarning: The localize method is no longer necessary, as this time zone supports the fold attribute (PEP 495). For more details on migrating to a PEP 495-compliant implementation, see https://pytz-deprecation-shim.readthedocs.io/en/latest/migration.html\n",
      "  now = self.get_local_tz().localize(now)\n",
      "C:\\Users\\kamga\\PycharmProjects\\scientificProject\\venv\\lib\\site-packages\\dateparser\\date_parser.py:35: PytzUsageWarning: The localize method is no longer necessary, as this time zone supports the fold attribute (PEP 495). For more details on migrating to a PEP 495-compliant implementation, see https://pytz-deprecation-shim.readthedocs.io/en/latest/migration.html\n",
      "  date_obj = stz.localize(date_obj)\n"
     ]
    },
    {
     "name": "stdout",
     "output_type": "stream",
     "text": [
      "1\n",
      "1\n",
      "1\n",
      "0\n",
      "1\n",
      "1\n",
      "0\n",
      "1\n",
      "1\n",
      "1\n",
      "1\n",
      "1\n"
     ]
    },
    {
     "ename": "ConnectionError",
     "evalue": "('Connection aborted.', RemoteDisconnected('Remote end closed connection without response'))",
     "output_type": "error",
     "traceback": [
      "\u001B[1;31m---------------------------------------------------------------------------\u001B[0m",
      "\u001B[1;31mRemoteDisconnected\u001B[0m                        Traceback (most recent call last)",
      "File \u001B[1;32m~\\PycharmProjects\\scientificProject\\venv\\lib\\site-packages\\urllib3\\connectionpool.py:703\u001B[0m, in \u001B[0;36mHTTPConnectionPool.urlopen\u001B[1;34m(self, method, url, body, headers, retries, redirect, assert_same_host, timeout, pool_timeout, release_conn, chunked, body_pos, **response_kw)\u001B[0m\n\u001B[0;32m    702\u001B[0m \u001B[38;5;66;03m# Make the request on the httplib connection object.\u001B[39;00m\n\u001B[1;32m--> 703\u001B[0m httplib_response \u001B[38;5;241m=\u001B[39m \u001B[38;5;28;43mself\u001B[39;49m\u001B[38;5;241;43m.\u001B[39;49m\u001B[43m_make_request\u001B[49m\u001B[43m(\u001B[49m\n\u001B[0;32m    704\u001B[0m \u001B[43m    \u001B[49m\u001B[43mconn\u001B[49m\u001B[43m,\u001B[49m\n\u001B[0;32m    705\u001B[0m \u001B[43m    \u001B[49m\u001B[43mmethod\u001B[49m\u001B[43m,\u001B[49m\n\u001B[0;32m    706\u001B[0m \u001B[43m    \u001B[49m\u001B[43murl\u001B[49m\u001B[43m,\u001B[49m\n\u001B[0;32m    707\u001B[0m \u001B[43m    \u001B[49m\u001B[43mtimeout\u001B[49m\u001B[38;5;241;43m=\u001B[39;49m\u001B[43mtimeout_obj\u001B[49m\u001B[43m,\u001B[49m\n\u001B[0;32m    708\u001B[0m \u001B[43m    \u001B[49m\u001B[43mbody\u001B[49m\u001B[38;5;241;43m=\u001B[39;49m\u001B[43mbody\u001B[49m\u001B[43m,\u001B[49m\n\u001B[0;32m    709\u001B[0m \u001B[43m    \u001B[49m\u001B[43mheaders\u001B[49m\u001B[38;5;241;43m=\u001B[39;49m\u001B[43mheaders\u001B[49m\u001B[43m,\u001B[49m\n\u001B[0;32m    710\u001B[0m \u001B[43m    \u001B[49m\u001B[43mchunked\u001B[49m\u001B[38;5;241;43m=\u001B[39;49m\u001B[43mchunked\u001B[49m\u001B[43m,\u001B[49m\n\u001B[0;32m    711\u001B[0m \u001B[43m\u001B[49m\u001B[43m)\u001B[49m\n\u001B[0;32m    713\u001B[0m \u001B[38;5;66;03m# If we're going to release the connection in ``finally:``, then\u001B[39;00m\n\u001B[0;32m    714\u001B[0m \u001B[38;5;66;03m# the response doesn't need to know about the connection. Otherwise\u001B[39;00m\n\u001B[0;32m    715\u001B[0m \u001B[38;5;66;03m# it will also try to release it and we'll have a double-release\u001B[39;00m\n\u001B[0;32m    716\u001B[0m \u001B[38;5;66;03m# mess.\u001B[39;00m\n",
      "File \u001B[1;32m~\\PycharmProjects\\scientificProject\\venv\\lib\\site-packages\\urllib3\\connectionpool.py:449\u001B[0m, in \u001B[0;36mHTTPConnectionPool._make_request\u001B[1;34m(self, conn, method, url, timeout, chunked, **httplib_request_kw)\u001B[0m\n\u001B[0;32m    445\u001B[0m         \u001B[38;5;28;01mexcept\u001B[39;00m \u001B[38;5;167;01mBaseException\u001B[39;00m \u001B[38;5;28;01mas\u001B[39;00m e:\n\u001B[0;32m    446\u001B[0m             \u001B[38;5;66;03m# Remove the TypeError from the exception chain in\u001B[39;00m\n\u001B[0;32m    447\u001B[0m             \u001B[38;5;66;03m# Python 3 (including for exceptions like SystemExit).\u001B[39;00m\n\u001B[0;32m    448\u001B[0m             \u001B[38;5;66;03m# Otherwise it looks like a bug in the code.\u001B[39;00m\n\u001B[1;32m--> 449\u001B[0m             \u001B[43msix\u001B[49m\u001B[38;5;241;43m.\u001B[39;49m\u001B[43mraise_from\u001B[49m\u001B[43m(\u001B[49m\u001B[43me\u001B[49m\u001B[43m,\u001B[49m\u001B[43m \u001B[49m\u001B[38;5;28;43;01mNone\u001B[39;49;00m\u001B[43m)\u001B[49m\n\u001B[0;32m    450\u001B[0m \u001B[38;5;28;01mexcept\u001B[39;00m (SocketTimeout, BaseSSLError, SocketError) \u001B[38;5;28;01mas\u001B[39;00m e:\n",
      "File \u001B[1;32m<string>:3\u001B[0m, in \u001B[0;36mraise_from\u001B[1;34m(value, from_value)\u001B[0m\n",
      "File \u001B[1;32m~\\PycharmProjects\\scientificProject\\venv\\lib\\site-packages\\urllib3\\connectionpool.py:444\u001B[0m, in \u001B[0;36mHTTPConnectionPool._make_request\u001B[1;34m(self, conn, method, url, timeout, chunked, **httplib_request_kw)\u001B[0m\n\u001B[0;32m    443\u001B[0m \u001B[38;5;28;01mtry\u001B[39;00m:\n\u001B[1;32m--> 444\u001B[0m     httplib_response \u001B[38;5;241m=\u001B[39m \u001B[43mconn\u001B[49m\u001B[38;5;241;43m.\u001B[39;49m\u001B[43mgetresponse\u001B[49m\u001B[43m(\u001B[49m\u001B[43m)\u001B[49m\n\u001B[0;32m    445\u001B[0m \u001B[38;5;28;01mexcept\u001B[39;00m \u001B[38;5;167;01mBaseException\u001B[39;00m \u001B[38;5;28;01mas\u001B[39;00m e:\n\u001B[0;32m    446\u001B[0m     \u001B[38;5;66;03m# Remove the TypeError from the exception chain in\u001B[39;00m\n\u001B[0;32m    447\u001B[0m     \u001B[38;5;66;03m# Python 3 (including for exceptions like SystemExit).\u001B[39;00m\n\u001B[0;32m    448\u001B[0m     \u001B[38;5;66;03m# Otherwise it looks like a bug in the code.\u001B[39;00m\n",
      "File \u001B[1;32m~\\AppData\\Local\\Programs\\Python\\Python310\\lib\\http\\client.py:1374\u001B[0m, in \u001B[0;36mHTTPConnection.getresponse\u001B[1;34m(self)\u001B[0m\n\u001B[0;32m   1373\u001B[0m \u001B[38;5;28;01mtry\u001B[39;00m:\n\u001B[1;32m-> 1374\u001B[0m     \u001B[43mresponse\u001B[49m\u001B[38;5;241;43m.\u001B[39;49m\u001B[43mbegin\u001B[49m\u001B[43m(\u001B[49m\u001B[43m)\u001B[49m\n\u001B[0;32m   1375\u001B[0m \u001B[38;5;28;01mexcept\u001B[39;00m \u001B[38;5;167;01mConnectionError\u001B[39;00m:\n",
      "File \u001B[1;32m~\\AppData\\Local\\Programs\\Python\\Python310\\lib\\http\\client.py:318\u001B[0m, in \u001B[0;36mHTTPResponse.begin\u001B[1;34m(self)\u001B[0m\n\u001B[0;32m    317\u001B[0m \u001B[38;5;28;01mwhile\u001B[39;00m \u001B[38;5;28;01mTrue\u001B[39;00m:\n\u001B[1;32m--> 318\u001B[0m     version, status, reason \u001B[38;5;241m=\u001B[39m \u001B[38;5;28;43mself\u001B[39;49m\u001B[38;5;241;43m.\u001B[39;49m\u001B[43m_read_status\u001B[49m\u001B[43m(\u001B[49m\u001B[43m)\u001B[49m\n\u001B[0;32m    319\u001B[0m     \u001B[38;5;28;01mif\u001B[39;00m status \u001B[38;5;241m!=\u001B[39m CONTINUE:\n",
      "File \u001B[1;32m~\\AppData\\Local\\Programs\\Python\\Python310\\lib\\http\\client.py:287\u001B[0m, in \u001B[0;36mHTTPResponse._read_status\u001B[1;34m(self)\u001B[0m\n\u001B[0;32m    284\u001B[0m \u001B[38;5;28;01mif\u001B[39;00m \u001B[38;5;129;01mnot\u001B[39;00m line:\n\u001B[0;32m    285\u001B[0m     \u001B[38;5;66;03m# Presumably, the server closed the connection before\u001B[39;00m\n\u001B[0;32m    286\u001B[0m     \u001B[38;5;66;03m# sending a valid response.\u001B[39;00m\n\u001B[1;32m--> 287\u001B[0m     \u001B[38;5;28;01mraise\u001B[39;00m RemoteDisconnected(\u001B[38;5;124m\"\u001B[39m\u001B[38;5;124mRemote end closed connection without\u001B[39m\u001B[38;5;124m\"\u001B[39m\n\u001B[0;32m    288\u001B[0m                              \u001B[38;5;124m\"\u001B[39m\u001B[38;5;124m response\u001B[39m\u001B[38;5;124m\"\u001B[39m)\n\u001B[0;32m    289\u001B[0m \u001B[38;5;28;01mtry\u001B[39;00m:\n",
      "\u001B[1;31mRemoteDisconnected\u001B[0m: Remote end closed connection without response",
      "\nDuring handling of the above exception, another exception occurred:\n",
      "\u001B[1;31mProtocolError\u001B[0m                             Traceback (most recent call last)",
      "File \u001B[1;32m~\\PycharmProjects\\scientificProject\\venv\\lib\\site-packages\\requests\\adapters.py:489\u001B[0m, in \u001B[0;36mHTTPAdapter.send\u001B[1;34m(self, request, stream, timeout, verify, cert, proxies)\u001B[0m\n\u001B[0;32m    488\u001B[0m \u001B[38;5;28;01mif\u001B[39;00m \u001B[38;5;129;01mnot\u001B[39;00m chunked:\n\u001B[1;32m--> 489\u001B[0m     resp \u001B[38;5;241m=\u001B[39m \u001B[43mconn\u001B[49m\u001B[38;5;241;43m.\u001B[39;49m\u001B[43murlopen\u001B[49m\u001B[43m(\u001B[49m\n\u001B[0;32m    490\u001B[0m \u001B[43m        \u001B[49m\u001B[43mmethod\u001B[49m\u001B[38;5;241;43m=\u001B[39;49m\u001B[43mrequest\u001B[49m\u001B[38;5;241;43m.\u001B[39;49m\u001B[43mmethod\u001B[49m\u001B[43m,\u001B[49m\n\u001B[0;32m    491\u001B[0m \u001B[43m        \u001B[49m\u001B[43murl\u001B[49m\u001B[38;5;241;43m=\u001B[39;49m\u001B[43murl\u001B[49m\u001B[43m,\u001B[49m\n\u001B[0;32m    492\u001B[0m \u001B[43m        \u001B[49m\u001B[43mbody\u001B[49m\u001B[38;5;241;43m=\u001B[39;49m\u001B[43mrequest\u001B[49m\u001B[38;5;241;43m.\u001B[39;49m\u001B[43mbody\u001B[49m\u001B[43m,\u001B[49m\n\u001B[0;32m    493\u001B[0m \u001B[43m        \u001B[49m\u001B[43mheaders\u001B[49m\u001B[38;5;241;43m=\u001B[39;49m\u001B[43mrequest\u001B[49m\u001B[38;5;241;43m.\u001B[39;49m\u001B[43mheaders\u001B[49m\u001B[43m,\u001B[49m\n\u001B[0;32m    494\u001B[0m \u001B[43m        \u001B[49m\u001B[43mredirect\u001B[49m\u001B[38;5;241;43m=\u001B[39;49m\u001B[38;5;28;43;01mFalse\u001B[39;49;00m\u001B[43m,\u001B[49m\n\u001B[0;32m    495\u001B[0m \u001B[43m        \u001B[49m\u001B[43massert_same_host\u001B[49m\u001B[38;5;241;43m=\u001B[39;49m\u001B[38;5;28;43;01mFalse\u001B[39;49;00m\u001B[43m,\u001B[49m\n\u001B[0;32m    496\u001B[0m \u001B[43m        \u001B[49m\u001B[43mpreload_content\u001B[49m\u001B[38;5;241;43m=\u001B[39;49m\u001B[38;5;28;43;01mFalse\u001B[39;49;00m\u001B[43m,\u001B[49m\n\u001B[0;32m    497\u001B[0m \u001B[43m        \u001B[49m\u001B[43mdecode_content\u001B[49m\u001B[38;5;241;43m=\u001B[39;49m\u001B[38;5;28;43;01mFalse\u001B[39;49;00m\u001B[43m,\u001B[49m\n\u001B[0;32m    498\u001B[0m \u001B[43m        \u001B[49m\u001B[43mretries\u001B[49m\u001B[38;5;241;43m=\u001B[39;49m\u001B[38;5;28;43mself\u001B[39;49m\u001B[38;5;241;43m.\u001B[39;49m\u001B[43mmax_retries\u001B[49m\u001B[43m,\u001B[49m\n\u001B[0;32m    499\u001B[0m \u001B[43m        \u001B[49m\u001B[43mtimeout\u001B[49m\u001B[38;5;241;43m=\u001B[39;49m\u001B[43mtimeout\u001B[49m\u001B[43m,\u001B[49m\n\u001B[0;32m    500\u001B[0m \u001B[43m    \u001B[49m\u001B[43m)\u001B[49m\n\u001B[0;32m    502\u001B[0m \u001B[38;5;66;03m# Send the request.\u001B[39;00m\n\u001B[0;32m    503\u001B[0m \u001B[38;5;28;01melse\u001B[39;00m:\n",
      "File \u001B[1;32m~\\PycharmProjects\\scientificProject\\venv\\lib\\site-packages\\urllib3\\connectionpool.py:787\u001B[0m, in \u001B[0;36mHTTPConnectionPool.urlopen\u001B[1;34m(self, method, url, body, headers, retries, redirect, assert_same_host, timeout, pool_timeout, release_conn, chunked, body_pos, **response_kw)\u001B[0m\n\u001B[0;32m    785\u001B[0m     e \u001B[38;5;241m=\u001B[39m ProtocolError(\u001B[38;5;124m\"\u001B[39m\u001B[38;5;124mConnection aborted.\u001B[39m\u001B[38;5;124m\"\u001B[39m, e)\n\u001B[1;32m--> 787\u001B[0m retries \u001B[38;5;241m=\u001B[39m \u001B[43mretries\u001B[49m\u001B[38;5;241;43m.\u001B[39;49m\u001B[43mincrement\u001B[49m\u001B[43m(\u001B[49m\n\u001B[0;32m    788\u001B[0m \u001B[43m    \u001B[49m\u001B[43mmethod\u001B[49m\u001B[43m,\u001B[49m\u001B[43m \u001B[49m\u001B[43murl\u001B[49m\u001B[43m,\u001B[49m\u001B[43m \u001B[49m\u001B[43merror\u001B[49m\u001B[38;5;241;43m=\u001B[39;49m\u001B[43me\u001B[49m\u001B[43m,\u001B[49m\u001B[43m \u001B[49m\u001B[43m_pool\u001B[49m\u001B[38;5;241;43m=\u001B[39;49m\u001B[38;5;28;43mself\u001B[39;49m\u001B[43m,\u001B[49m\u001B[43m \u001B[49m\u001B[43m_stacktrace\u001B[49m\u001B[38;5;241;43m=\u001B[39;49m\u001B[43msys\u001B[49m\u001B[38;5;241;43m.\u001B[39;49m\u001B[43mexc_info\u001B[49m\u001B[43m(\u001B[49m\u001B[43m)\u001B[49m\u001B[43m[\u001B[49m\u001B[38;5;241;43m2\u001B[39;49m\u001B[43m]\u001B[49m\n\u001B[0;32m    789\u001B[0m \u001B[43m\u001B[49m\u001B[43m)\u001B[49m\n\u001B[0;32m    790\u001B[0m retries\u001B[38;5;241m.\u001B[39msleep()\n",
      "File \u001B[1;32m~\\PycharmProjects\\scientificProject\\venv\\lib\\site-packages\\urllib3\\util\\retry.py:550\u001B[0m, in \u001B[0;36mRetry.increment\u001B[1;34m(self, method, url, response, error, _pool, _stacktrace)\u001B[0m\n\u001B[0;32m    549\u001B[0m \u001B[38;5;28;01mif\u001B[39;00m read \u001B[38;5;129;01mis\u001B[39;00m \u001B[38;5;28;01mFalse\u001B[39;00m \u001B[38;5;129;01mor\u001B[39;00m \u001B[38;5;129;01mnot\u001B[39;00m \u001B[38;5;28mself\u001B[39m\u001B[38;5;241m.\u001B[39m_is_method_retryable(method):\n\u001B[1;32m--> 550\u001B[0m     \u001B[38;5;28;01mraise\u001B[39;00m \u001B[43msix\u001B[49m\u001B[38;5;241;43m.\u001B[39;49m\u001B[43mreraise\u001B[49m\u001B[43m(\u001B[49m\u001B[38;5;28;43mtype\u001B[39;49m\u001B[43m(\u001B[49m\u001B[43merror\u001B[49m\u001B[43m)\u001B[49m\u001B[43m,\u001B[49m\u001B[43m \u001B[49m\u001B[43merror\u001B[49m\u001B[43m,\u001B[49m\u001B[43m \u001B[49m\u001B[43m_stacktrace\u001B[49m\u001B[43m)\u001B[49m\n\u001B[0;32m    551\u001B[0m \u001B[38;5;28;01melif\u001B[39;00m read \u001B[38;5;129;01mis\u001B[39;00m \u001B[38;5;129;01mnot\u001B[39;00m \u001B[38;5;28;01mNone\u001B[39;00m:\n",
      "File \u001B[1;32m~\\PycharmProjects\\scientificProject\\venv\\lib\\site-packages\\urllib3\\packages\\six.py:769\u001B[0m, in \u001B[0;36mreraise\u001B[1;34m(tp, value, tb)\u001B[0m\n\u001B[0;32m    768\u001B[0m \u001B[38;5;28;01mif\u001B[39;00m value\u001B[38;5;241m.\u001B[39m__traceback__ \u001B[38;5;129;01mis\u001B[39;00m \u001B[38;5;129;01mnot\u001B[39;00m tb:\n\u001B[1;32m--> 769\u001B[0m     \u001B[38;5;28;01mraise\u001B[39;00m value\u001B[38;5;241m.\u001B[39mwith_traceback(tb)\n\u001B[0;32m    770\u001B[0m \u001B[38;5;28;01mraise\u001B[39;00m value\n",
      "File \u001B[1;32m~\\PycharmProjects\\scientificProject\\venv\\lib\\site-packages\\urllib3\\connectionpool.py:703\u001B[0m, in \u001B[0;36mHTTPConnectionPool.urlopen\u001B[1;34m(self, method, url, body, headers, retries, redirect, assert_same_host, timeout, pool_timeout, release_conn, chunked, body_pos, **response_kw)\u001B[0m\n\u001B[0;32m    702\u001B[0m \u001B[38;5;66;03m# Make the request on the httplib connection object.\u001B[39;00m\n\u001B[1;32m--> 703\u001B[0m httplib_response \u001B[38;5;241m=\u001B[39m \u001B[38;5;28;43mself\u001B[39;49m\u001B[38;5;241;43m.\u001B[39;49m\u001B[43m_make_request\u001B[49m\u001B[43m(\u001B[49m\n\u001B[0;32m    704\u001B[0m \u001B[43m    \u001B[49m\u001B[43mconn\u001B[49m\u001B[43m,\u001B[49m\n\u001B[0;32m    705\u001B[0m \u001B[43m    \u001B[49m\u001B[43mmethod\u001B[49m\u001B[43m,\u001B[49m\n\u001B[0;32m    706\u001B[0m \u001B[43m    \u001B[49m\u001B[43murl\u001B[49m\u001B[43m,\u001B[49m\n\u001B[0;32m    707\u001B[0m \u001B[43m    \u001B[49m\u001B[43mtimeout\u001B[49m\u001B[38;5;241;43m=\u001B[39;49m\u001B[43mtimeout_obj\u001B[49m\u001B[43m,\u001B[49m\n\u001B[0;32m    708\u001B[0m \u001B[43m    \u001B[49m\u001B[43mbody\u001B[49m\u001B[38;5;241;43m=\u001B[39;49m\u001B[43mbody\u001B[49m\u001B[43m,\u001B[49m\n\u001B[0;32m    709\u001B[0m \u001B[43m    \u001B[49m\u001B[43mheaders\u001B[49m\u001B[38;5;241;43m=\u001B[39;49m\u001B[43mheaders\u001B[49m\u001B[43m,\u001B[49m\n\u001B[0;32m    710\u001B[0m \u001B[43m    \u001B[49m\u001B[43mchunked\u001B[49m\u001B[38;5;241;43m=\u001B[39;49m\u001B[43mchunked\u001B[49m\u001B[43m,\u001B[49m\n\u001B[0;32m    711\u001B[0m \u001B[43m\u001B[49m\u001B[43m)\u001B[49m\n\u001B[0;32m    713\u001B[0m \u001B[38;5;66;03m# If we're going to release the connection in ``finally:``, then\u001B[39;00m\n\u001B[0;32m    714\u001B[0m \u001B[38;5;66;03m# the response doesn't need to know about the connection. Otherwise\u001B[39;00m\n\u001B[0;32m    715\u001B[0m \u001B[38;5;66;03m# it will also try to release it and we'll have a double-release\u001B[39;00m\n\u001B[0;32m    716\u001B[0m \u001B[38;5;66;03m# mess.\u001B[39;00m\n",
      "File \u001B[1;32m~\\PycharmProjects\\scientificProject\\venv\\lib\\site-packages\\urllib3\\connectionpool.py:449\u001B[0m, in \u001B[0;36mHTTPConnectionPool._make_request\u001B[1;34m(self, conn, method, url, timeout, chunked, **httplib_request_kw)\u001B[0m\n\u001B[0;32m    445\u001B[0m         \u001B[38;5;28;01mexcept\u001B[39;00m \u001B[38;5;167;01mBaseException\u001B[39;00m \u001B[38;5;28;01mas\u001B[39;00m e:\n\u001B[0;32m    446\u001B[0m             \u001B[38;5;66;03m# Remove the TypeError from the exception chain in\u001B[39;00m\n\u001B[0;32m    447\u001B[0m             \u001B[38;5;66;03m# Python 3 (including for exceptions like SystemExit).\u001B[39;00m\n\u001B[0;32m    448\u001B[0m             \u001B[38;5;66;03m# Otherwise it looks like a bug in the code.\u001B[39;00m\n\u001B[1;32m--> 449\u001B[0m             \u001B[43msix\u001B[49m\u001B[38;5;241;43m.\u001B[39;49m\u001B[43mraise_from\u001B[49m\u001B[43m(\u001B[49m\u001B[43me\u001B[49m\u001B[43m,\u001B[49m\u001B[43m \u001B[49m\u001B[38;5;28;43;01mNone\u001B[39;49;00m\u001B[43m)\u001B[49m\n\u001B[0;32m    450\u001B[0m \u001B[38;5;28;01mexcept\u001B[39;00m (SocketTimeout, BaseSSLError, SocketError) \u001B[38;5;28;01mas\u001B[39;00m e:\n",
      "File \u001B[1;32m<string>:3\u001B[0m, in \u001B[0;36mraise_from\u001B[1;34m(value, from_value)\u001B[0m\n",
      "File \u001B[1;32m~\\PycharmProjects\\scientificProject\\venv\\lib\\site-packages\\urllib3\\connectionpool.py:444\u001B[0m, in \u001B[0;36mHTTPConnectionPool._make_request\u001B[1;34m(self, conn, method, url, timeout, chunked, **httplib_request_kw)\u001B[0m\n\u001B[0;32m    443\u001B[0m \u001B[38;5;28;01mtry\u001B[39;00m:\n\u001B[1;32m--> 444\u001B[0m     httplib_response \u001B[38;5;241m=\u001B[39m \u001B[43mconn\u001B[49m\u001B[38;5;241;43m.\u001B[39;49m\u001B[43mgetresponse\u001B[49m\u001B[43m(\u001B[49m\u001B[43m)\u001B[49m\n\u001B[0;32m    445\u001B[0m \u001B[38;5;28;01mexcept\u001B[39;00m \u001B[38;5;167;01mBaseException\u001B[39;00m \u001B[38;5;28;01mas\u001B[39;00m e:\n\u001B[0;32m    446\u001B[0m     \u001B[38;5;66;03m# Remove the TypeError from the exception chain in\u001B[39;00m\n\u001B[0;32m    447\u001B[0m     \u001B[38;5;66;03m# Python 3 (including for exceptions like SystemExit).\u001B[39;00m\n\u001B[0;32m    448\u001B[0m     \u001B[38;5;66;03m# Otherwise it looks like a bug in the code.\u001B[39;00m\n",
      "File \u001B[1;32m~\\AppData\\Local\\Programs\\Python\\Python310\\lib\\http\\client.py:1374\u001B[0m, in \u001B[0;36mHTTPConnection.getresponse\u001B[1;34m(self)\u001B[0m\n\u001B[0;32m   1373\u001B[0m \u001B[38;5;28;01mtry\u001B[39;00m:\n\u001B[1;32m-> 1374\u001B[0m     \u001B[43mresponse\u001B[49m\u001B[38;5;241;43m.\u001B[39;49m\u001B[43mbegin\u001B[49m\u001B[43m(\u001B[49m\u001B[43m)\u001B[49m\n\u001B[0;32m   1375\u001B[0m \u001B[38;5;28;01mexcept\u001B[39;00m \u001B[38;5;167;01mConnectionError\u001B[39;00m:\n",
      "File \u001B[1;32m~\\AppData\\Local\\Programs\\Python\\Python310\\lib\\http\\client.py:318\u001B[0m, in \u001B[0;36mHTTPResponse.begin\u001B[1;34m(self)\u001B[0m\n\u001B[0;32m    317\u001B[0m \u001B[38;5;28;01mwhile\u001B[39;00m \u001B[38;5;28;01mTrue\u001B[39;00m:\n\u001B[1;32m--> 318\u001B[0m     version, status, reason \u001B[38;5;241m=\u001B[39m \u001B[38;5;28;43mself\u001B[39;49m\u001B[38;5;241;43m.\u001B[39;49m\u001B[43m_read_status\u001B[49m\u001B[43m(\u001B[49m\u001B[43m)\u001B[49m\n\u001B[0;32m    319\u001B[0m     \u001B[38;5;28;01mif\u001B[39;00m status \u001B[38;5;241m!=\u001B[39m CONTINUE:\n",
      "File \u001B[1;32m~\\AppData\\Local\\Programs\\Python\\Python310\\lib\\http\\client.py:287\u001B[0m, in \u001B[0;36mHTTPResponse._read_status\u001B[1;34m(self)\u001B[0m\n\u001B[0;32m    284\u001B[0m \u001B[38;5;28;01mif\u001B[39;00m \u001B[38;5;129;01mnot\u001B[39;00m line:\n\u001B[0;32m    285\u001B[0m     \u001B[38;5;66;03m# Presumably, the server closed the connection before\u001B[39;00m\n\u001B[0;32m    286\u001B[0m     \u001B[38;5;66;03m# sending a valid response.\u001B[39;00m\n\u001B[1;32m--> 287\u001B[0m     \u001B[38;5;28;01mraise\u001B[39;00m RemoteDisconnected(\u001B[38;5;124m\"\u001B[39m\u001B[38;5;124mRemote end closed connection without\u001B[39m\u001B[38;5;124m\"\u001B[39m\n\u001B[0;32m    288\u001B[0m                              \u001B[38;5;124m\"\u001B[39m\u001B[38;5;124m response\u001B[39m\u001B[38;5;124m\"\u001B[39m)\n\u001B[0;32m    289\u001B[0m \u001B[38;5;28;01mtry\u001B[39;00m:\n",
      "\u001B[1;31mProtocolError\u001B[0m: ('Connection aborted.', RemoteDisconnected('Remote end closed connection without response'))",
      "\nDuring handling of the above exception, another exception occurred:\n",
      "\u001B[1;31mConnectionError\u001B[0m                           Traceback (most recent call last)",
      "Input \u001B[1;32mIn [27]\u001B[0m, in \u001B[0;36m<cell line: 1>\u001B[1;34m()\u001B[0m\n\u001B[1;32m----> 1\u001B[0m \u001B[38;5;28;01mfor\u001B[39;00m post \u001B[38;5;129;01min\u001B[39;00m get_posts(post_urls\u001B[38;5;241m=\u001B[39murllist, credentials\u001B[38;5;241m=\u001B[39m(\u001B[38;5;124m'\u001B[39m\u001B[38;5;124manthonyryan232@gmail.com\u001B[39m\u001B[38;5;124m'\u001B[39m, \u001B[38;5;124m'\u001B[39m\u001B[38;5;124mfg+KFtn+E3kXN+\u001B[39m\u001B[38;5;124m'\u001B[39m), options\u001B[38;5;241m=\u001B[39m{\u001B[38;5;124m\"\u001B[39m\u001B[38;5;124mcomments\u001B[39m\u001B[38;5;124m\"\u001B[39m: \u001B[38;5;28;01mTrue\u001B[39;00m}):\n\u001B[0;32m      2\u001B[0m     \u001B[38;5;28;01mif\u001B[39;00m(post[\u001B[38;5;124m'\u001B[39m\u001B[38;5;124mcomments_full\u001B[39m\u001B[38;5;124m'\u001B[39m]):\n\u001B[0;32m      3\u001B[0m         \u001B[38;5;28mprint\u001B[39m(\u001B[38;5;241m1\u001B[39m)\n",
      "File \u001B[1;32m~\\Downloads\\Compressed\\facebook-scraper-master\\facebook-scraper-master\\facebook_scraper\\facebook_scraper.py:129\u001B[0m, in \u001B[0;36mFacebookScraper.get_posts_by_url\u001B[1;34m(self, post_urls, options, remove_source)\u001B[0m\n\u001B[0;32m    127\u001B[0m post \u001B[38;5;241m=\u001B[39m {\u001B[38;5;124m\"\u001B[39m\u001B[38;5;124moriginal_request_url\u001B[39m\u001B[38;5;124m\"\u001B[39m: post_url, \u001B[38;5;124m\"\u001B[39m\u001B[38;5;124mpost_url\u001B[39m\u001B[38;5;124m\"\u001B[39m: url}\n\u001B[0;32m    128\u001B[0m logger\u001B[38;5;241m.\u001B[39mdebug(\u001B[38;5;124mf\u001B[39m\u001B[38;5;124m\"\u001B[39m\u001B[38;5;124mRequesting page from: \u001B[39m\u001B[38;5;132;01m{\u001B[39;00murl\u001B[38;5;132;01m}\u001B[39;00m\u001B[38;5;124m\"\u001B[39m)\n\u001B[1;32m--> 129\u001B[0m response \u001B[38;5;241m=\u001B[39m \u001B[38;5;28;43mself\u001B[39;49m\u001B[38;5;241;43m.\u001B[39;49m\u001B[43mget\u001B[49m\u001B[43m(\u001B[49m\u001B[43murl\u001B[49m\u001B[43m)\u001B[49m\n\u001B[0;32m    130\u001B[0m options[\u001B[38;5;124m\"\u001B[39m\u001B[38;5;124mresponse_url\u001B[39m\u001B[38;5;124m\"\u001B[39m] \u001B[38;5;241m=\u001B[39m response\u001B[38;5;241m.\u001B[39murl\n\u001B[0;32m    131\u001B[0m photo_post \u001B[38;5;241m=\u001B[39m \u001B[38;5;28;01mFalse\u001B[39;00m\n",
      "File \u001B[1;32m~\\Downloads\\Compressed\\facebook-scraper-master\\facebook-scraper-master\\facebook_scraper\\facebook_scraper.py:871\u001B[0m, in \u001B[0;36mFacebookScraper.get\u001B[1;34m(self, url, **kwargs)\u001B[0m\n\u001B[0;32m    869\u001B[0m     response \u001B[38;5;241m=\u001B[39m \u001B[38;5;28mself\u001B[39m\u001B[38;5;241m.\u001B[39msession\u001B[38;5;241m.\u001B[39mpost(url\u001B[38;5;241m=\u001B[39murl, \u001B[38;5;241m*\u001B[39m\u001B[38;5;241m*\u001B[39mkwargs)\n\u001B[0;32m    870\u001B[0m \u001B[38;5;28;01melse\u001B[39;00m:\n\u001B[1;32m--> 871\u001B[0m     response \u001B[38;5;241m=\u001B[39m \u001B[38;5;28mself\u001B[39m\u001B[38;5;241m.\u001B[39msession\u001B[38;5;241m.\u001B[39mget(url\u001B[38;5;241m=\u001B[39murl, \u001B[38;5;241m*\u001B[39m\u001B[38;5;241m*\u001B[39m\u001B[38;5;28mself\u001B[39m\u001B[38;5;241m.\u001B[39mrequests_kwargs, \u001B[38;5;241m*\u001B[39m\u001B[38;5;241m*\u001B[39mkwargs)\n\u001B[0;32m    872\u001B[0m DEBUG \u001B[38;5;241m=\u001B[39m \u001B[38;5;28;01mFalse\u001B[39;00m\n\u001B[0;32m    873\u001B[0m \u001B[38;5;28;01mif\u001B[39;00m DEBUG:\n",
      "File \u001B[1;32m~\\PycharmProjects\\scientificProject\\venv\\lib\\site-packages\\requests\\sessions.py:600\u001B[0m, in \u001B[0;36mSession.get\u001B[1;34m(self, url, **kwargs)\u001B[0m\n\u001B[0;32m    592\u001B[0m \u001B[38;5;124mr\u001B[39m\u001B[38;5;124;03m\"\"\"Sends a GET request. Returns :class:`Response` object.\u001B[39;00m\n\u001B[0;32m    593\u001B[0m \n\u001B[0;32m    594\u001B[0m \u001B[38;5;124;03m:param url: URL for the new :class:`Request` object.\u001B[39;00m\n\u001B[0;32m    595\u001B[0m \u001B[38;5;124;03m:param \\*\\*kwargs: Optional arguments that ``request`` takes.\u001B[39;00m\n\u001B[0;32m    596\u001B[0m \u001B[38;5;124;03m:rtype: requests.Response\u001B[39;00m\n\u001B[0;32m    597\u001B[0m \u001B[38;5;124;03m\"\"\"\u001B[39;00m\n\u001B[0;32m    599\u001B[0m kwargs\u001B[38;5;241m.\u001B[39msetdefault(\u001B[38;5;124m\"\u001B[39m\u001B[38;5;124mallow_redirects\u001B[39m\u001B[38;5;124m\"\u001B[39m, \u001B[38;5;28;01mTrue\u001B[39;00m)\n\u001B[1;32m--> 600\u001B[0m \u001B[38;5;28;01mreturn\u001B[39;00m \u001B[38;5;28mself\u001B[39m\u001B[38;5;241m.\u001B[39mrequest(\u001B[38;5;124m\"\u001B[39m\u001B[38;5;124mGET\u001B[39m\u001B[38;5;124m\"\u001B[39m, url, \u001B[38;5;241m*\u001B[39m\u001B[38;5;241m*\u001B[39mkwargs)\n",
      "File \u001B[1;32m~\\PycharmProjects\\scientificProject\\venv\\lib\\site-packages\\requests\\sessions.py:587\u001B[0m, in \u001B[0;36mSession.request\u001B[1;34m(self, method, url, params, data, headers, cookies, files, auth, timeout, allow_redirects, proxies, hooks, stream, verify, cert, json)\u001B[0m\n\u001B[0;32m    582\u001B[0m send_kwargs \u001B[38;5;241m=\u001B[39m {\n\u001B[0;32m    583\u001B[0m     \u001B[38;5;124m\"\u001B[39m\u001B[38;5;124mtimeout\u001B[39m\u001B[38;5;124m\"\u001B[39m: timeout,\n\u001B[0;32m    584\u001B[0m     \u001B[38;5;124m\"\u001B[39m\u001B[38;5;124mallow_redirects\u001B[39m\u001B[38;5;124m\"\u001B[39m: allow_redirects,\n\u001B[0;32m    585\u001B[0m }\n\u001B[0;32m    586\u001B[0m send_kwargs\u001B[38;5;241m.\u001B[39mupdate(settings)\n\u001B[1;32m--> 587\u001B[0m resp \u001B[38;5;241m=\u001B[39m \u001B[38;5;28mself\u001B[39m\u001B[38;5;241m.\u001B[39msend(prep, \u001B[38;5;241m*\u001B[39m\u001B[38;5;241m*\u001B[39msend_kwargs)\n\u001B[0;32m    589\u001B[0m \u001B[38;5;28;01mreturn\u001B[39;00m resp\n",
      "File \u001B[1;32m~\\PycharmProjects\\scientificProject\\venv\\lib\\site-packages\\requests\\sessions.py:701\u001B[0m, in \u001B[0;36mSession.send\u001B[1;34m(self, request, **kwargs)\u001B[0m\n\u001B[0;32m    698\u001B[0m start \u001B[38;5;241m=\u001B[39m preferred_clock()\n\u001B[0;32m    700\u001B[0m \u001B[38;5;66;03m# Send the request\u001B[39;00m\n\u001B[1;32m--> 701\u001B[0m r \u001B[38;5;241m=\u001B[39m adapter\u001B[38;5;241m.\u001B[39msend(request, \u001B[38;5;241m*\u001B[39m\u001B[38;5;241m*\u001B[39mkwargs)\n\u001B[0;32m    703\u001B[0m \u001B[38;5;66;03m# Total elapsed time of the request (approximately)\u001B[39;00m\n\u001B[0;32m    704\u001B[0m elapsed \u001B[38;5;241m=\u001B[39m preferred_clock() \u001B[38;5;241m-\u001B[39m start\n",
      "File \u001B[1;32m~\\PycharmProjects\\scientificProject\\venv\\lib\\site-packages\\requests\\adapters.py:547\u001B[0m, in \u001B[0;36mHTTPAdapter.send\u001B[1;34m(self, request, stream, timeout, verify, cert, proxies)\u001B[0m\n\u001B[0;32m    544\u001B[0m             \u001B[38;5;28;01mraise\u001B[39;00m\n\u001B[0;32m    546\u001B[0m \u001B[38;5;28;01mexcept\u001B[39;00m (ProtocolError, \u001B[38;5;167;01mOSError\u001B[39;00m) \u001B[38;5;28;01mas\u001B[39;00m err:\n\u001B[1;32m--> 547\u001B[0m     \u001B[38;5;28;01mraise\u001B[39;00m \u001B[38;5;167;01mConnectionError\u001B[39;00m(err, request\u001B[38;5;241m=\u001B[39mrequest)\n\u001B[0;32m    549\u001B[0m \u001B[38;5;28;01mexcept\u001B[39;00m MaxRetryError \u001B[38;5;28;01mas\u001B[39;00m e:\n\u001B[0;32m    550\u001B[0m     \u001B[38;5;28;01mif\u001B[39;00m \u001B[38;5;28misinstance\u001B[39m(e\u001B[38;5;241m.\u001B[39mreason, ConnectTimeoutError):\n\u001B[0;32m    551\u001B[0m         \u001B[38;5;66;03m# TODO: Remove this in 3.0.0: see #2811\u001B[39;00m\n",
      "\u001B[1;31mConnectionError\u001B[0m: ('Connection aborted.', RemoteDisconnected('Remote end closed connection without response'))"
     ]
    }
   ],
   "source": [
    "for post in get_posts(post_urls=urllist, credentials=('youremail', 'yourpassword'), options={\"comments\": True}):\n",
    "    if(post['comments_full']):\n",
    "        print(1)\n",
    "    else:\n",
    "        print(0)\n"
   ],
   "metadata": {
    "collapsed": false,
    "pycharm": {
     "name": "#%%\n"
    }
   }
  },
  {
   "cell_type": "code",
   "execution_count": null,
   "outputs": [],
   "source": [
    "try:\n",
    "    x = int(input(\"Please enter a number: \"))\n",
    "        break\n",
    "    except ValueError:\n",
    "        print(\"Oops!  That was no valid number.  Try again...\")"
   ],
   "metadata": {
    "collapsed": false,
    "pycharm": {
     "name": "#%%\n"
    }
   }
  },
  {
   "cell_type": "code",
   "execution_count": 30,
   "outputs": [],
   "source": [
    "import time"
   ],
   "metadata": {
    "collapsed": false,
    "pycharm": {
     "name": "#%%\n"
    }
   }
  },
  {
   "cell_type": "code",
   "execution_count": 54,
   "outputs": [
    {
     "name": "stderr",
     "output_type": "stream",
     "text": [
      "C:\\Users\\kamga\\PycharmProjects\\scientificProject\\venv\\lib\\site-packages\\dateparser\\freshness_date_parser.py:76: PytzUsageWarning: The localize method is no longer necessary, as this time zone supports the fold attribute (PEP 495). For more details on migrating to a PEP 495-compliant implementation, see https://pytz-deprecation-shim.readthedocs.io/en/latest/migration.html\n",
      "  now = self.get_local_tz().localize(now)\n",
      "C:\\Users\\kamga\\PycharmProjects\\scientificProject\\venv\\lib\\site-packages\\dateparser\\date_parser.py:35: PytzUsageWarning: The localize method is no longer necessary, as this time zone supports the fold attribute (PEP 495). For more details on migrating to a PEP 495-compliant implementation, see https://pytz-deprecation-shim.readthedocs.io/en/latest/migration.html\n",
      "  date_obj = stz.localize(date_obj)\n"
     ]
    },
    {
     "name": "stdout",
     "output_type": "stream",
     "text": [
      "pfbid024WouL5da68mJYxED8tXyC1WJMo44qhH97vQHSSwrTyQrdXtnTr4Bihw79EREoC1Xl\n",
      "pfbid029mBHCv5TTVKvZnpQe9eGhvmufoq8fSj5q3pbP1TXnHYnsfMfvavkAL7ig6PwLurml\n",
      "pfbid0ymvjNjKjYXCPUPZ7W8HTtgkWAMXXr9JDr252Mqa6PYk1Yn44TsnwUirABDgtQLbPl\n",
      "pfbid025H3FNAJJ5cKuaPSxmEAX24e7Lgn4VSKitXNccWDbNTz8y1Gx64HfhPW1AGunDdR8l\n",
      "pfbid0KcEoMtV9LGH6W7wjyQUoDSFS2Wsks9rnXFEUZ8tiXiX3z61ZhXypHcagXoZ4Yuuvl\n",
      "pfbid0322yhGi78A6srmJfFKmSugJDK3Pbs3baV2yvifYJrsJoNmMYNPJJPQBoCtjhbC1eRl\n",
      "pfbid0STKsoZ4b3Z6sxUojFrHKH1mZcg6XdeF9LjLeoAmVMJSuS49XQZ6tsGKxYrMvTY8Wl\n",
      "pfbid0WXf5dMwysrXdXoosC56vM1WQkQwDEtcVXdmqnEiiQUYgx6FsddaGHGjkyqS7K2uCl\n",
      "pfbid0nd5NTZfienJyVx6sMYh8LnkqTZpzNCNxUPe2mLUd8YMq98ntuUfU8oVMz1AgRgdJl\n",
      "pfbid0Zy5JdS6T5b6cXvWU6PnXwp5ggCgecPnEnrx4jYC2d9oun7EMsckwAzxcsnfG9adEl\n",
      "pfbid0nazzkUguAxFG9qRVHZn3yYab7tKnaPGFUCpJpq7PQma1xeZBoFC4ELYAsg8x4Yxjl\n",
      "pfbid035CzpjSUUJM67jp89WLoFnD6gPre55yqVMrRBrxFUf2UQjaZcKZjQrcFRXypgTpzal\n",
      "pfbid0HFj3RKRm2oPDggF96h7fZqSQBxjADV4S6U8ouQofMFQCarBKrpVYmbPK3MsmCUjKl\n",
      "pfbid02coysCEqyV7Txi3KscXaxRZXqgSPpejbfuvpYKSBgExK3rv4jeA3iakJSRvPUWb1Ql\n",
      "pfbid037dDvFfZ6KpAttMRGWVYoT7Qymzw9QWBVeYmYnJCa98QX9Rsv1uRx3ibqq3s46du6l\n",
      "pfbid0cS966voDF1pGVSoJYWX8hTskBo1Tq8g5z1CwZ5ThWhRJ5eemooe2CXSjVGe3pQ7al\n",
      "pfbid0BRW6JteqiBpeYQapFSnRGKeMRJspsZCV4r9xoBqQRp1aE2VDUyc4RuHT9V2KHEZ6l\n",
      "pfbid09uojv9bpEB7sYg7nPAaMHRoYPRCmZ68ffSgvSSRvewf3K3evG9ooawbXLvxFXFE3l\n",
      "pfbid0WXf5dMwysrXdXoosC56vM1WQkQwDEtcVXdmqnEiiQUYgx6FsddaGHGjkyqS7K2uCl\n",
      "pfbid0pEZQhp5hVq3CdsZnqXS2MZ6BzZngCd5kz6ixtKhZAQybzVVD928R3Y3T2X2e2HNAl\n"
     ]
    }
   ],
   "source": [
    "cnt = 0\n",
    "for post in get_posts(post_urls=urllist, credentials=('youremail', 'yourpassword'), options={\"comments\": True}):\n",
    "    try:\n",
    "        print(post['post_id'])\n",
    "\n",
    "    except:\n",
    "        continue"
   ],
   "metadata": {
    "collapsed": false,
    "pycharm": {
     "name": "#%%\n"
    }
   }
  },
  {
   "cell_type": "code",
   "execution_count": null,
   "outputs": [],
   "source": [
    "cnt = 0\n",
    "for post in get_posts(post_urls=urllist, credentials=('youremail', 'yourpassword'), options={\"comments\": True}):\n",
    "    try:\n",
    "        print(post['post_id'])\n",
    "\n",
    "        for x in post['comments_full']:\n",
    "            cnt = cnt + 1\n",
    "            print('Comment {0} : {1} -- Time = {2}'.format(cnt, x['comment_text'], x['comment_time']))\n",
    "\n",
    "    except KeyError:\n",
    "        print('No comments for this post')\n",
    "        continue\n",
    "\n",
    "    except ConnectionError:\n",
    "        print('Connection error occurred. Program is starting back...')\n",
    "        time.sleep(2)\n",
    "        continue"
   ],
   "metadata": {
    "collapsed": false,
    "pycharm": {
     "name": "#%%\n"
    }
   }
  },
  {
   "cell_type": "code",
   "execution_count": null,
   "outputs": [],
   "source": [
    "for post in get_posts(post_urls=urllist, credentials=('youremail', 'yourpassword'), options={\"comments\": True}):\n",
    "    try:\n",
    "        for x in post['comments_full']:\n",
    "            print(x['comment_text'])\n",
    "\n",
    "    except KeyError:\n",
    "        print('No comments for this post')\n",
    "        continue\n",
    "\n",
    "    except ConnectionError:\n",
    "        print('Connection error occurred. Program is starting back...')\n",
    "        time.sleep(2)\n",
    "        continue"
   ],
   "metadata": {
    "collapsed": false,
    "pycharm": {
     "name": "#%%\n"
    }
   }
  },
  {
   "cell_type": "code",
   "execution_count": null,
   "outputs": [],
   "source": [
    "try:\n",
    "    for post in get_posts(post_urls=urllist, credentials=('youremail', 'yourpassword'), options={\"comments\": True}):\n",
    "        try:\n",
    "            for x in post['comments_full']:\n",
    "                print(x['comment_text'])\n",
    "\n",
    "        except KeyError:\n",
    "            print('No comments for this post')\n",
    "            continue\n",
    "\n",
    "        except ConnectionError:\n",
    "            print('Connection error occurred. Program is starting back...')\n",
    "            time.sleep(2)\n",
    "            continue"
   ],
   "metadata": {
    "collapsed": false,
    "pycharm": {
     "name": "#%%\n"
    }
   }
  },
  {
   "cell_type": "code",
   "execution_count": null,
   "outputs": [],
   "source": [],
   "metadata": {
    "collapsed": false,
    "pycharm": {
     "name": "#%%\n"
    }
   }
  }
 ],
 "metadata": {
  "kernelspec": {
   "display_name": "Python 3",
   "language": "python",
   "name": "python3"
  },
  "language_info": {
   "codemirror_mode": {
    "name": "ipython",
    "version": 2
   },
   "file_extension": ".py",
   "mimetype": "text/x-python",
   "name": "python",
   "nbconvert_exporter": "python",
   "pygments_lexer": "ipython2",
   "version": "2.7.6"
  }
 },
 "nbformat": 4,
 "nbformat_minor": 0
}